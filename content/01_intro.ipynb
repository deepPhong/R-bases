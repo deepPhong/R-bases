{
 "cells": [
  {
   "cell_type": "markdown",
   "metadata": {},
   "source": [
    "# **Chapitre 1 : Introduction et premiers pas**\n"
   ]
  },
  {
   "cell_type": "markdown",
   "metadata": {},
   "source": [
    "## **_Préambule : langage de programmation_**\n",
    "\n",
    "Un langage de programmation est une manière conventionnelle de produire des **programmes informatiques**, ayant pour but de transmettre des **instructions à un ordinateur**. D'une manière similaire à une langue naturelle, un langage de programmation est composé d'un alphabet, d'un vocabulaire, de règles de grammaire, etc.\n",
    "\n",
    "Malheureusement, le processeur d'un ordinateur ne comprend qu'un seul langage : le **langage machine**. Ce langage est dit de *bas niveau*, car au plus proche de la machine, ce qui le rend impossible à comprendre et à parler/écrire par l'humain (proche du binaire). C'est pour cela qu'une multitude de langages dits de plus *haut niveau* ont été créés, chacun répondant à des usages plus ou moins spécifiques, et plus ou moins proches de l'anglais.\n",
    "\n",
    "On appelle **code source** les instructions écrites dans un langage de programmation. Celui-ci est le plus souvent sous la forme d'un ensemble de fichiers textes portant une extension explicite (ex : `fichier.R` pour R, `fichier.py` pour Python).\n",
    "\n",
    "La **traduction** d'un langage de programmation vers le langage machine peut se faire de deux manières, divisant les langages de programmation en deux grandes catégories :\n",
    "\n",
    "* Les langages **compilés**, dont le code source, une fois complètement écrit, est traduit via ce qu'on appelle un compilateur en code cible, exécutable par un ordinateur (ex : Java, C/C++)\n",
    "* Les langages **interprétés**, dont les lignes de codes sont traduites et exécutées au fur et à mesure par ce qu'on appelle un interpréteur (ex : R, Python, JavaScript)"
   ]
  },
  {
   "cell_type": "markdown",
   "metadata": {},
   "source": [
    "## **1. R : quoi et pourquoi ?**\n",
    "\n",
    "**R** est un langage de programmation interprété, créé en 1992 par *Ross Ihaka* et *Robert Gentleman* à l'Université d'Auckland en Nouvelle-Zélande. Il est basé sur le langage S (*John Chambers*, 1976). Essentiellement orienté vers la manipulation de données, les statistiques et la production de graphiques, ses atouts sont nombreux :\n",
    "\n",
    "* **Open-source** : disponible gratuitement pout tous et pour tous usages (même commerciaux)\n",
    "* **Multi-plateforme** : compatible Windows, Apple OSX et Linux\n",
    "* **Populaire** : dispose d'une énorme communauté d'entre-aide en ligne, et est utilisé dans un nombre toujours croissant d'organismes publics/privés (compétences recherchées ++ sur les sites de recrutement). R est en train de devenir le standard de l'analyse statistique\n",
    "* **Puissant** : peut traiter de grandes quantités de données efficacement, contrairement à Excel par exemple\n",
    "* **Versatile** : peut être utilisé pour tous les usages liés à la donnée (ex : statistiques, graphiques, cartographie, applications web, rapports, machine learning/IA, etc.)\n",
    "* **Reproducibilité** : sa nature de langage de programmation permet de reproduire les résultats d'une étude ou d'une analyse en partageant les codes sources ; très utile pour les analyses récurrentes périodiquement (ex : analyses d'activité)\n",
    "\n",
    "### 1.1 Quid d'Excel et des autres solutions ?\n",
    "\n",
    "**STATA/SPSS/MATLAB** : payant, et beaucoup (beaucoup) moins de possibilités. Popularité en déclin.\n",
    "\n",
    "**SAS** : même chose qu'au-dessus, mais (beaucoup) plus cher.\n",
    "\n",
    "**Microsoft Excel** : outil puissant de visualisation et de traitement de données. Il est relativement polyvalent et intuitif à l'utilisation, et a l'avantage d'être connu de tous. Il est néanmoins très rapidement limité pour une pratique rigoureuse et/ou avancée :\n",
    "\n",
    "* Peu adapté aux \"grosses\" données : ralentissements, défilement infini pour accéder aux zones d'intérêt\n",
    "* Options limitées, rigides et peu esthétiques pour la production de graphiques et de rapports\n",
    "* Très sensible aux maladresses, et aucun moyen de revenir en arrière une fois les modifications faites et le tableur fermé\n",
    "* Automatisation des tâches laborieuse et limitée (langage VBA uniquement limité aux applications de l'écosystème Microsoft Office)\n",
    "* Obligation de modifier les données d'origine pour modifier un tableau (très mauvaise pratique)\n",
    "\n",
    "### 1.2 RStudio et Jupyter\n",
    "\n",
    "Bien que l'on puisse utiliser utiliser R via l'interface graphique par défaut, celle-ci est un peu austère et ne possède que très peu de fonctionnalités ajoutées au langage. La très grande majorité des utilisateurs préfère utiliser un **environnement de développement** (IDE, pour integrated development environment), qui permet notamment d'augmenter la productivité des développeurs via une interface plus intuitive, un éditeur de texte adéquat avec auto-complétion, ainsi que des outils d'automatisation et d'aide à la résolution de bugs. Les deux IDE les plus utilisés sont :\n",
    "\n",
    "* **RStudio** : un IDE entièrement développé autour du langage R et une intégration parfaite de ses extensions (ex : RMarkdown/RNotebook pour produire des rapports, Shiny pour réaliser et déployer des applications web). De loin le plus utilisé et le plus adapté à R.\n",
    "* **Jupyter** : un IDE multi-langages (Julia, Python, et R initialement, maintenant bien plus que ça), très pratique pour un environnement où les utilisateurs utilisent différents langages. Également un bon outil pédagogique pour les cours/TP, car il permet d'écrire et de d'exécuter directement des lignes de code dans un environnement interactif, qu'on appelle un notebook ; le cours que vous êtes en train de lire a été entièrement écrit avec Jupyter. **Colab** est un équivalent disponible en ligne développé par Google, et présente l'avantage de n'avoir rien à installer."
   ]
  },
  {
   "cell_type": "markdown",
   "metadata": {},
   "source": [
    "## **2. Installation**\n",
    "\n",
    "Pour un usage classique, l'IDE que je vous recommande d'utiliser est RStudio. Plus que deux petites étapes avant de pouvoir mettre les mains dans le cambouis :\n",
    "\n",
    "1. [Téléchargez et installez R](https://cran.r-project.org/mirrors.html)\n",
    "2. [Téléchargez et installez la version open-source de RStudio Desktop](https://rstudio.com/products/rstudio/)\n",
    "\n",
    "Dans la suite de ce cours, tout le code que vous lirez aura été écrit dans les \"cellules de code\" de l'interface Jupyter, qui sont reconnaissables par leur encadrement et leur fond grisé. L'équivalent dans RStudio est ce qu'on appelle la **console** (en Anglais \"console\" ou \"CLI\" pour command-line interface). Tout ce qui sera écrit dans les cellules qui suivent peut donc être copié-collé dans la console de RStudio, les résultats retournés par l'ordinateur s'affichant à la ligne.\n",
    "\n",
    "INCLURE CAPTURE D'ECRAN RSTUDIO"
   ]
  },
  {
   "cell_type": "markdown",
   "metadata": {},
   "source": [
    "## **3. Premier(s) programme(s)**\n",
    "\n",
    "Traditionnellement, et ce quel que soit le langage de programmation, on commence par apprendre à afficher le message \"Hello, World!\" dans la console. Avec R c'est facile, il suffit de taper la commande suivante : `print(\"Hello, World!\")` et valider soit en appuyant sur la touche `Entrée` de votre clavier."
   ]
  },
  {
   "cell_type": "code",
   "execution_count": 1,
   "metadata": {},
   "outputs": [
    {
     "name": "stdout",
     "output_type": "stream",
     "text": [
      "[1] \"Hello, World!\"\n"
     ]
    }
   ],
   "source": [
    "print(\"Hello, World!\")"
   ]
  },
  {
   "cell_type": "markdown",
   "metadata": {},
   "source": [
    "La fonction `print()` permet d'afficher sur la console la valeur de l'objet compris entre parenthèses. Dans notre cas, nous avions directement mis le message \"Hello, World!\" dans la fonction et R nous l'a donc affiché. Le `[1]` qui précède indique l'indice de position de l'élément affiché ; en effet, R fonctionne en **vecteurs**, qui sont des sortes de groupes d'objets que nous verrons plus en détail par la suite. Dans notre cas nous ne voulions afficher qu'un seul objet, mais R le considère en réalité comme un vecteur d'objets de longueur égale à 1."
   ]
  },
  {
   "cell_type": "markdown",
   "metadata": {},
   "source": [
    "Afin de se familiariser avec un autre concept fondamental de R, on va réécrire notre programme d'une autre manière mais toujours dans le but d'afficher le même résultat à la console. Les étapes de cette variante sont dans l'ordre :\n",
    "\n",
    "1. Stocker le message dans un **\"contenant\"** qu'on appelle une **variable** dans R\n",
    "2. Afficher le contenu de cette variable à l'aide de la commande `print()`\n",
    "\n",
    "Avant cela, trois remarques pour nous aider :\n",
    "\n",
    "* Dans R, pour **assigner** une valeur à une variable, on utilise l'opérateur `<-`, avec le **nom** de l'objet du côté de la pointe de la flèche, et sa valeur de l'autre côté (ex : `x <- 34` ou encore `foo <- \"bar\"`).\n",
    "* Une **chaîne de caractères** (mot, phrase) doit toujours entourée de **guillemets** (`'simples'`ou `\"doubles\"`) pour être considérée comme telle. Lorsque R voit un mot ou une lettre sans guillemets, il l'interprête comme le nom d'une variable à aller chercher dans son répertoire.\n",
    "* Entre chaque commande, il faut aller à la ligne."
   ]
  },
  {
   "cell_type": "code",
   "execution_count": 2,
   "metadata": {},
   "outputs": [
    {
     "name": "stdout",
     "output_type": "stream",
     "text": [
      "[1] \"Hello, World!\"\n"
     ]
    }
   ],
   "source": [
    "salutations <- \"Hello, World!\"\n",
    "print(salutations)"
   ]
  },
  {
   "cell_type": "markdown",
   "metadata": {},
   "source": [
    "Avant de l'afficher à l'écran, on a donc d'abord assigné la chaîne de caractères `\"Hello, World!\"` à la variable `salutations`. En coulisses, R a stocké le message dans un espace de la mémoire de l'ordinateur, et l'a appelé `salutations` pour pouvoir le retrouver plus facilement par la suite. \n",
    "\n",
    "Si cet espace avait **déjà été occupé** par un autre objet, R l'aurait supprimé et **remplacé** par notre message sans nous prévenir ; il est de bon ton de vérifier que l'on a pas déjà stocké de donnée importante dans la même variable auparavant :"
   ]
  },
  {
   "cell_type": "code",
   "execution_count": 4,
   "metadata": {},
   "outputs": [
    {
     "name": "stdout",
     "output_type": "stream",
     "text": [
      "[1] \"Good bye, World!\"\n"
     ]
    }
   ],
   "source": [
    "salutations <- \"Hello, World!\"\n",
    "salutations <- \"Good bye, World!\"\n",
    "print(salutations)"
   ]
  },
  {
   "cell_type": "markdown",
   "metadata": {},
   "source": [
    "Sur ce, bravo, vous avez écrit vos premiers programmes ! Enfin j'espère que vous avez fait l'effort de réécrire les commandes dans la console de votre IDE, car c'est en pratiquant que l'on apprend 🙂"
   ]
  }
 ],
 "metadata": {
  "kernelspec": {
   "display_name": "R",
   "language": "R",
   "name": "ir"
  },
  "language_info": {
   "codemirror_mode": "r",
   "file_extension": ".r",
   "mimetype": "text/x-r-source",
   "name": "R",
   "pygments_lexer": "r",
   "version": "3.6.1"
  }
 },
 "nbformat": 4,
 "nbformat_minor": 4
}
