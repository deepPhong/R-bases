{
 "cells": [
  {
   "cell_type": "markdown",
   "metadata": {},
   "source": [
    "# **Chapitre 2 : Objets, classes et types**\n",
    "\n",
    "## **1. Objets** ##\n",
    "\n",
    "Comme on a pu le voir précédemment, on utilise ce qu'on appelle des **variables** pour stocker diverses informations, via l'opérateur `<-`. Ces variables ne sont rien d'autre que des espaces de mémoire alloués par l'ordinateur dans lequels on peut stocker des **objets** R. Mais en soi, qu'est-ce qu'un **objet** ?\n",
    "\n",
    "> To understand computations in R, two slogans are helpful:\n",
    ">   - Everything that exists is an object.\n",
    ">   - Everything that happens is a function call.\n",
    ">\n",
    "> — John Chambers\n",
    "\n",
    "Outre la dichotomie langage compilé/interprété que l'on a vu au cours précédent, on peut également catégoriser les langages selon leurs **paradigmes de programmation**, qui représentent en quelque sorte leur philosophie d'utilisation. Il faudrait un cours dédié pour en comprendre les subtilités, mais pour le moment il nous suffit de savoir que R est un langage de programmation **multi-paradigmes**, dont celui de la programmation **orientée-objet**. Et dans ce cadre, un objet est donc un contenant possédant deux éléments :\n",
    "\n",
    "* Des **attributs** (= de la donnée stockée dans l'objet)\n",
    "* Des **méthodes** (= des procédures permettant de décrire ou manipuler des données, internes ou externes à l'objet)\n",
    "\n",
    "## **2. Classes** ##\n",
    "\n",
    "Si on revient à la première partie de la citation de *John Chambers*, **tout ce qui existe** dans R est un objet. Mais si tout est objet, en pratique on a besoin de **classes** afin de définir des catégories d'objet avec des attributs et des méthodes qui leurs sont propres. Si on fait un parallèle avec notre réalité physique, une voiture et un T-shirt sont tous deux des objets, mais l'un est un véhicule et l'autre un vêtement.\n",
    "\n",
    "Il existe une multitude de classes, et celles que l'on sera amené à manipuler le plus souvent dans le cadre de l'analyse de données sont :\n",
    "\n",
    "* Les **vecteurs** (`Vector`)\n",
    "* Les **listes** (`List`)\n",
    "* Les **matrices** (`Matrix`)\n",
    "* Les **data frames** (`Data Frame`)\n",
    "\n",
    "On dit qu'un objet est une **instance** d'un certaine classe ; ainsi, si j'ai créé un vecteur (on va revenir sur ce que c'est plus bas), techniquement on devrait dire que j'ai *instancié* un objet de la classe `Vector`, mais c'est un peu lourd alors dans les pages qui suivent, je vais librement utiliser la formulation simplifiée.\n",
    "\n",
    "## **3. Types** ##\n",
    "\n",
    "Un objet peut donc contenir des données (il peut aussi être vide), ces dernières étant stockées de différentes manières dans la mémoire de l'ordinateur selon leur nature (chiffres, lettres, etc.). Ces procédés de stockage différents déterminent ce qu'on appelle des **types**, dont les plus utiles pour nous sont ceux qui constituent la catégorie des *vector types* :\n",
    "\n",
    "* **Integer** : les entiers naturels (ex : `23L`, `5L`, `0L`)\n",
    "* **Double** : les nombres réels : (`23.0`, `12.5`, `0.2334`)\n",
    "* **Character** : le texte, toujours entre guillemets (ex : `\"Hello\"`, `\"TRUE\"`, `\"123\"`, `\"3 quarts\"`)\n",
    "* **Logical** : les booléens, variables à deux états, notés par convention *vrai*/*faux* (ex : `TRUE`, `FALSE`)\n",
    "* **Complex** : les nombres complexes (ex : `33 + 3i`)\n",
    "* **Raw** : le stockage au format binaire et/ou hexadécimal\n",
    "\n",
    "Si vous vous rappelez ce qu'on a dit au précédemment, pour R un chiffre isolé n'est pas un chiffre, mais un vecteur-chiffre de longueur 1. C'est la raison pour laquelle on parle de *vector types* pour décrire le type des données.\n",
    "\n",
    "Certaines classes d'objets ont comme propriété de ne pouvoir stocker que des données du **même type**, comme les vecteurs et les matrices, alors que d'autres permettent de stocker des données de plusieurs **types différents**. Avant de rentrer dans le détail de certaines d'entre elles dans les prochains chapitres, si on reprend les quatre classes que l'on a cité plus haut, on pourrait résumer ça comme ça :\n",
    "\n",
    "| Cardinalité | Type unique | Types multiples |\n",
    "| :--- | :--- | :--- |\n",
    "| <b>Une dimension</b> | <u>Vector</u> <br> ![vector](./images/02_vector.png)| <u>List</u> <br> ![list](./images/02_list.png) |\n",
    "| <b>Deux dimensions</b> | <u>Matrix</u> <br> ![vector](./images/02_matrix.png) | <u>Data Frame</u> <br> ![list](./images/02_dataframe.png) |\n",
    "\n",
    "Maintenant qu'on s'est mis d'accord sur les termes, on va pouvoir passer aux choses concrètes dès le prochain chapitre ! Si tout ça vous a paru un peu rébarbatif et abstrait, ne vous inquiétez pas, la suite est plus fun. Il m'a néanmoins paru important de mettre des points sur les \"i\" et de bien définir des termes qui sont souvent employés de travers. N'hésitez pas à revenir à cette page dès que vous avez besoin de rafraîchir vos définitions !"
   ]
  }
 ],
 "metadata": {
  "kernelspec": {
   "display_name": "R",
   "language": "R",
   "name": "ir"
  },
  "language_info": {
   "codemirror_mode": "r",
   "file_extension": ".r",
   "mimetype": "text/x-r-source",
   "name": "R",
   "pygments_lexer": "r",
   "version": "3.6.1"
  }
 },
 "nbformat": 4,
 "nbformat_minor": 4
}
