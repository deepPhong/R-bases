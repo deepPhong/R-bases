{
 "cells": [
  {
   "cell_type": "markdown",
   "metadata": {},
   "source": [
    "# **Chapitre 2 : Types d'objets et de données**\n",
    "    NGUYEN Dinh-Phong\n",
    "    DIM HuPS, Hôpital Bicêtre, AP-HP\n",
    "    \n",
    "Comme on a pu le voir précédemment, lorsqu'on programme on utilise ce qu'on appelle des **variables** pour stocker diverses informations, via l'opérateur `<-`. Ces variables ne sont rien d'autre que des espaces de mémoire dans lequels on peut stocker des **objets R**, dont les plus fréquemment rencontrés sont :\n",
    "\n",
    "* les **Vectors**\n",
    "* les **Lists**\n",
    "* les **Matrices**\n",
    "* les **Arrays**\n",
    "* les **Factors**\n",
    "* les **Data Frames**\n",
    "\n",
    "Ces objets représentent différentes manières de stocker des données. Ces dernières peuvent être de différentes natures, regroupées dans ce que l'on appelle des **types de données** :\n",
    "\n",
    "* **Numeric** (les chiffres et nombres) qui regroupe les sous-types suivants :\n",
    "    * *Integer* (les entiers naturels) : `23L, 5L, 0L`\n",
    "    * *Single* et *Double* (les nombres décimaux) : `23.0, 12.5, 0.2334` (par défaut, R convertit les chiffres/nombres au format *Double*)\n",
    "* **Character** (le texte, toujours entre guillemets) : `\"Hello\", \"TRUE\", \"123\", \"3 quarts\"`\n",
    "* **Locical** (les booléens) : `TRUE`, `FALSE`\n",
    "* **Complex** (les nombres complexes) : `33 + 3i`\n",
    "* +/- **Raw** (stockage en hexadécimal)\n",
    "\n",
    "Certains objets ne peuvent stocker que des données du même type, comme les _vectors_ et les _matrices_, d'autres permettent de stocker des données de plusieurs types différents, comme les _lists_ et les _Data Frames_. Le tableau suivant résume ces informations pour les objets les plus utilisés en pratique :\n",
    "    \n",
    "| Dimensions | Type unique | Types multiples |\n",
    "| --- | --- | --- |\n",
    "| <b>1-dimension</b> | <b>Vector</b> <br> ![vector](./images/02_vector.png)| <b>List</b> <br> ![list](./images/02_list.png) |\n",
    "| <b>2-dimensions</b> | <b>Matrix</b> <br> ![vector](./images/02_matrix.png) | <b>Data Frame</b> <br> ![list](./images/02_dataframe.png) |"
   ]
  },
  {
   "cell_type": "markdown",
   "metadata": {},
   "source": [
    "## **1. Vectors**\n",
    "\n",
    "Les **vecteurs** sont les objets les plus basiques de R, et correspondent à un ensemble de valeurs du même **type de données**. À partir de ces vecteurs, on va pouvoir construire tous les autres objets R.\n",
    "\n",
    "Pour créer un nouveau vecteur, on utilise la fonction `c()` (pour *combine*) comme suit :"
   ]
  },
  {
   "cell_type": "code",
   "execution_count": 20,
   "metadata": {},
   "outputs": [],
   "source": [
    "x <- c(\"pbr\", \"bct\", \"abc\")"
   ]
  },
  {
   "cell_type": "markdown",
   "metadata": {},
   "source": [
    "Plusieurs fonctions utiles permettent de décrire le contenu d'un vecteur (mais aussi des autres objets) :\n",
    "\n",
    "* `print()` : affiche le contenu de l'objet\n",
    "* `is.vector()` : affiche TRUE si l'objet est un vector, FALSE sinon\n",
    "* `typeof()` : affiche le type des données contenues dans l'objet (ou la nature de l'objet, si plusieurs types)\n",
    "* `length()` : affiche le nombre d'éléments dans l'objet"
   ]
  },
  {
   "cell_type": "code",
   "execution_count": 26,
   "metadata": {},
   "outputs": [
    {
     "name": "stdout",
     "output_type": "stream",
     "text": [
      "[1] \"pbr\" \"bct\" \"abc\"\n"
     ]
    }
   ],
   "source": [
    "print(x)"
   ]
  },
  {
   "cell_type": "code",
   "execution_count": 27,
   "metadata": {},
   "outputs": [
    {
     "data": {
      "text/html": [
       "TRUE"
      ],
      "text/latex": [
       "TRUE"
      ],
      "text/markdown": [
       "TRUE"
      ],
      "text/plain": [
       "[1] TRUE"
      ]
     },
     "metadata": {},
     "output_type": "display_data"
    }
   ],
   "source": [
    "is.vector(x)"
   ]
  },
  {
   "cell_type": "code",
   "execution_count": 29,
   "metadata": {},
   "outputs": [
    {
     "data": {
      "text/html": [
       "'character'"
      ],
      "text/latex": [
       "'character'"
      ],
      "text/markdown": [
       "'character'"
      ],
      "text/plain": [
       "[1] \"character\""
      ]
     },
     "metadata": {},
     "output_type": "display_data"
    }
   ],
   "source": [
    "typeof(x)"
   ]
  },
  {
   "cell_type": "code",
   "execution_count": 34,
   "metadata": {},
   "outputs": [
    {
     "data": {
      "text/html": [
       "3"
      ],
      "text/latex": [
       "3"
      ],
      "text/markdown": [
       "3"
      ],
      "text/plain": [
       "[1] 3"
      ]
     },
     "metadata": {},
     "output_type": "display_data"
    }
   ],
   "source": [
    "length(x)"
   ]
  },
  {
   "cell_type": "markdown",
   "metadata": {},
   "source": [
    "**Exercice**\n",
    "\n",
    "Dans la cellule ci-dessous, créez un nouveau vecteur contenant les chiffres `26`, `88` et `1` et assignez le à la variable `y`. <br> Aidez-vous ensuite des fonctions que l'on vient de voir afin de décrire le contenu de `y`. <br> Vous pouvez écrire toutes les commandes dans la même cellule (il suffit d'aller à la ligne entre chaque commande) ou créer une nouvelle cellule pour chaque commande (en cliquant sur le bouton ➕ de la barre de navigation de Jupyter)."
   ]
  },
  {
   "cell_type": "code",
   "execution_count": null,
   "metadata": {},
   "outputs": [],
   "source": []
  },
  {
   "cell_type": "code",
   "execution_count": 36,
   "metadata": {},
   "outputs": [],
   "source": [
    "# Pour la solution, décommentez la ligne suivante (retirez le \"#\") :\n",
    "# source(\"solutions/02_types_vectors.R\", echo=TRUE)"
   ]
  },
  {
   "cell_type": "markdown",
   "metadata": {},
   "source": [
    "## **2. Lists**\n",
    "\n",
    "Les listes sont des objets pouvant contenir des éléments de plusieurs types, voire même d'autres objets. Ils sont créés à l'aide de la fonction `list()`"
   ]
  },
  {
   "cell_type": "code",
   "execution_count": 37,
   "metadata": {},
   "outputs": [
    {
     "name": "stdout",
     "output_type": "stream",
     "text": [
      "[[1]]\n",
      "[1] \"Ambroise Paré\"\n",
      "\n",
      "[[2]]\n",
      "[1] 92\n",
      "\n"
     ]
    }
   ],
   "source": [
    "hopital <- list(\"Ambroise Paré\", 92)\n",
    "print(hopital)"
   ]
  },
  {
   "cell_type": "markdown",
   "metadata": {},
   "source": [
    "On peut également attribuer un nom aux éléments d'une liste de la manière suivante :"
   ]
  },
  {
   "cell_type": "code",
   "execution_count": 40,
   "metadata": {},
   "outputs": [
    {
     "name": "stdout",
     "output_type": "stream",
     "text": [
      "$nom\n",
      "[1] \"Ambroise Paré\"\n",
      "\n",
      "$département\n",
      "[1] 92\n",
      "\n"
     ]
    }
   ],
   "source": [
    "hopital <- list(nom = \"Ambroise Paré\", département = 92)\n",
    "print(hopital)"
   ]
  },
  {
   "cell_type": "markdown",
   "metadata": {},
   "source": [
    "*NB : les curieu·x·ses qui auront essayé la fonction `is.vector()` sur une liste se demanderont pourquoi la console affiche `TRUE`. Sans rentrer dans les détails, R considère en effet les listes comme des vecteurs spéciaux.*"
   ]
  },
  {
   "cell_type": "markdown",
   "metadata": {},
   "source": [
    "## **3. Matrices**\n",
    "\n",
    "Les matrices permettent de stocker des données bi-dimensionnelles (ou \"rectangulaires\") du même type. Ils sont créés à l'aide de la fonction `matrix()`"
   ]
  },
  {
   "cell_type": "code",
   "execution_count": 58,
   "metadata": {},
   "outputs": [
    {
     "name": "stdout",
     "output_type": "stream",
     "text": [
      "     [,1] [,2] [,3] [,4]\n",
      "[1,]    1    1    1    1\n",
      "[2,]    2    2    2    2\n",
      "[3,]    3    3    3    3\n",
      "[4,]    4    4    4    4\n"
     ]
    }
   ],
   "source": [
    "# Ici, on précise nrow = 4 pour que R force la matrice à avoir 4 rangées\n",
    "z <- matrix(c(1, 2, 3, 4, 1, 2, 3, 4, 1, 2, 3, 4, 1, 2, 3, 4), nrow = 4)\n",
    "print(z)"
   ]
  },
  {
   "cell_type": "markdown",
   "metadata": {},
   "source": [
    "## **4. Data Frames**\n",
    "\n",
    "Les Data Frames permettent de stocker des données bi-dimensionnelles (ou \"rectangulaires\") de différents types. C'est l'objet qui se rapproche le plus d'une feuille Excel, et donc ce que l'on va utiliser le plus souvent en analyse de données classique. On peut assimiler un Data Frame à une liste de vecteurs de même longueur, et on le crée avec la fonction `data.frame()` comme suit :"
   ]
  },
  {
   "cell_type": "code",
   "execution_count": 72,
   "metadata": {},
   "outputs": [
    {
     "name": "stdout",
     "output_type": "stream",
     "text": [
      "         NIP     nom age vivant\n",
      "1 1237383859  Dupont  12   TRUE\n",
      "2 1727583930  Dupond  45   TRUE\n",
      "3 2839593024 Du Pont  96  FALSE\n",
      "4 4436759938 Dup Hon  34   TRUE\n"
     ]
    }
   ],
   "source": [
    "patients <- data.frame(\n",
    "    NIP = c(\"1237383859\", \"1727583930\", \"2839593024\", \"4436759938\"),\n",
    "    nom = c(\"Dupont\", \"Dupond\", \"Du Pont\", \"Dup Hon\"),\n",
    "    age = c(12, 45, 96, 34),\n",
    "    vivant = c(TRUE, TRUE, FALSE, TRUE),\n",
    "    stringsAsFactors = FALSE\n",
    ")\n",
    "print(patients)"
   ]
  },
  {
   "cell_type": "markdown",
   "metadata": {},
   "source": [
    "On remarquera deux particularités dans la commande ci-dessus :\n",
    "\n",
    "* La **syntaxe** : on aurait pu taper la commande qui a servi à créer le Data Frame `patients` sur une seule ligne, mais on se rend bien compte que ça serait vite devenu illisible. Moyennant le respect de certaines règles, chacun·e est libre d'écrire du code comme il lui plait, mais il existe des conventions qui permettent d'harmoniser les pratiques et favoriser la compréhension de la lecture du code. Ici par exemple, on retourne à la ligne et on incrémente d'un `Tab` à chaque nouvel argument de la fonction.\n",
    "* `stringsAsFactors = FALSE` : cet argument impose au Data Frame de laisser les colonnes de type `character` telles quelles, au lieu de les convertir en `Factors`. Nous verrons plus tard ce que cela implique, mais pour l'instant considérons qu'il faille inclure `stringsAsFactors=  FALSE` à chaque fois que l'on crée un Data Frame."
   ]
  },
  {
   "cell_type": "markdown",
   "metadata": {},
   "source": [
    "**Exercice**\n",
    "\n",
    "Complétez la cellule ci-dessous pour créer un Data Frame à partir des vecteurs déjà créés."
   ]
  },
  {
   "cell_type": "code",
   "execution_count": null,
   "metadata": {},
   "outputs": [],
   "source": [
    "nda <- c(\"290022559\", \"290499339\", \"289449003\")\n",
    "nom <- c(\"Martin\", \"Marre Tain\", \"Mahrtain\")\n",
    "duree_sejour <- c(34, 2, 85)\n",
    "\n",
    "simpa <- data.frame(\n",
    "    # Compléter ce qui manque ici entre les parenthèses\n",
    ")\n",
    "print(simpa)"
   ]
  },
  {
   "cell_type": "code",
   "execution_count": 84,
   "metadata": {},
   "outputs": [],
   "source": [
    "# Pour la solution, décommentez la ligne suivante (retirez le \"#\") :\n",
    "# source(\"solutions/02_types_dataframes.R\", echo=TRUE)"
   ]
  },
  {
   "cell_type": "markdown",
   "metadata": {},
   "source": [
    "[Retour au sommaire](00_master.ipynb) <br>\n",
    "Cours précédent : [Introduction et premiers pas](01_intro.ipynb) <br>\n",
    "Cours suivant : [Opérations et manipulations de vecteurs](03_vectors.ipynb)"
   ]
  }
 ],
 "metadata": {
  "kernelspec": {
   "display_name": "R",
   "language": "R",
   "name": "ir"
  },
  "language_info": {
   "codemirror_mode": "r",
   "file_extension": ".r",
   "mimetype": "text/x-r-source",
   "name": "R",
   "pygments_lexer": "r",
   "version": "3.6.1"
  }
 },
 "nbformat": 4,
 "nbformat_minor": 4
}
