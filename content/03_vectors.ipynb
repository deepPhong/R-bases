{
 "cells": [
  {
   "cell_type": "markdown",
   "metadata": {},
   "source": [
    "# **Chapitre 3 : Les vecteurs**\n",
    "\n",
    "Les vecteurs constituent la classe d'objets la plus importante de R. On va voir par la suite qu'à partir de ces vecteurs, on va pouvoir construire tous les autres objets qui nous intéressent. Vous vous rappelez peut-être qu'au chapitre précédent, on a divisé les vecteurs en deux sous-classes, les **vecteurs atomiques** et les **listes**. Les premiers ne peuvent contenir que des éléments du même type, au contraire des derniers."
   ]
  },
  {
   "cell_type": "markdown",
   "metadata": {},
   "source": [
    "NB : Vous verrez très souvent une simplification de langage consistant à appeler les *vecteurs atomiques* des *vecteurs* tout court. Je vais me permettre de faire la même chose par la suite pour alléger les formulations et parce que c'est ce que vous trouverez sur les forums d'entraide en ligne, mais retenez qu'une liste est également un vecteur."
   ]
  },
  {
   "cell_type": "markdown",
   "metadata": {},
   "source": [
    "## **1. Les vecteurs atomiques**\n",
    "\n",
    "On a vu dans le chapitre précédent qu'ils pouvaient être principalement de quatre types primaires différents (je ne mentionnerai plus par la suite les types *Complex* et *Raw* car ils ne sont que très rarement utilisés) :\n",
    "\n",
    "* **Integer** : les entiers naturels, par convention suivis de la lettre \"L\" (ex : `23L`, `5L`, `0L`)\n",
    "* **Double** : les nombres réels (ex : `23.0`, `12.5`, `0.2334`) et trois valeurs spéciales que sont `Inf`, `-Inf` et `NaN` (*Not a Number*)\n",
    "* **Character** : le texte, par convention entre guillemets (ex : `\"Hello\"`, `\"TRUE\"`, `\"123\"`, `\"3 quarts\"`)\n",
    "* **Logical** : les booléens, variables à deux états, notés par convention *vrai*/*faux* (ex : `TRUE`, `FALSE`)\n",
    "\n",
    "Quelques remarques en vrac :\n",
    "\n",
    "* Sans le \"L\", les entiers naturels sont interprétés comme des *double*\n",
    "* Les booléens `TRUE` et `FALSE` peuvent aussi être abrégés `T` et `F`\n",
    "* Les *integer* et les *double* peuvent être regroupés dans un \"surtype\", qu'on appelle *numeric*\n",
    "\n",
    "### **1.1 Instanciation**\n",
    "\n",
    "Pour créer un vecteur atomique, on utilise la fonction `c()` (\"c\" pour *combine*) :"
   ]
  },
  {
   "cell_type": "code",
   "execution_count": 18,
   "metadata": {},
   "outputs": [],
   "source": [
    "int_vect <- c(2L, 35L, 0L)\n",
    "dbl_vect <- c(1.23, 2, 0.345)\n",
    "chr_vect <- c(\"pbr\", \"bct\", \"abc\")\n",
    "lgl_vect <- c(TRUE, FALSE, TRUE)"
   ]
  },
  {
   "cell_type": "markdown",
   "metadata": {},
   "source": [
    "On peut également combiner plusieurs vecteurs en un avec la même fonction :"
   ]
  },
  {
   "cell_type": "code",
   "execution_count": 23,
   "metadata": {},
   "outputs": [
    {
     "name": "stdout",
     "output_type": "stream",
     "text": [
      "[1] 1 2 3 4 5 6\n"
     ]
    }
   ],
   "source": [
    "lng_vect <- c(c(1, 2, 3), c(4, 5, 6))\n",
    "print(lng_vect)"
   ]
  },
  {
   "cell_type": "markdown",
   "metadata": {},
   "source": [
    "Lorsqu'on combine des éléments de types différents, R va convertir tous les éléments vers le type le plus \"inclusif\" :\n",
    "* Les booléns peuvent être convertis en *integer*, `TRUE` valant `1` et `FALSE` valant `0`, en *double* ou en *character*\n",
    "* Les *integer* peuvent être convertis en *double* ou en *chracter*\n",
    "* Les *double* peuvent être convertis en *character* \n",
    "* Les *character* ne sont jamais convertis"
   ]
  },
  {
   "cell_type": "code",
   "execution_count": 28,
   "metadata": {},
   "outputs": [
    {
     "name": "stdout",
     "output_type": "stream",
     "text": [
      "[1] \"TRUE\"    \"43\"      \"34.5343\" \"trois\"  \n"
     ]
    }
   ],
   "source": [
    "mix_vect <- c(TRUE, 43L, 34.5343, \"trois\")\n",
    "print(mix_vect)"
   ]
  },
  {
   "cell_type": "markdown",
   "metadata": {},
   "source": [
    "Selon les règles énoncées plus haut, tous les éléments du vecteur ont donc été convertis au format texte."
   ]
  },
  {
   "cell_type": "markdown",
   "metadata": {},
   "source": [
    "### **1.2 Opérations numériques**\n",
    "\n",
    "Rien de bien compliqué ici, vous pouvez interagir dans la console comme avec une calculatrice :"
   ]
  },
  {
   "cell_type": "code",
   "execution_count": 1,
   "metadata": {},
   "outputs": [
    {
     "name": "stdout",
     "output_type": "stream",
     "text": [
      "[1] 3\n"
     ]
    }
   ],
   "source": [
    "somme_chiffres <- 1 + 2\n",
    "print(somme_chiffres)"
   ]
  },
  {
   "cell_type": "markdown",
   "metadata": {},
   "source": [
    "Les opérations entre vecteurs se font position par position (le premier élément d'un vecteur avec le premier élément d'un autre, etc.) :"
   ]
  },
  {
   "cell_type": "code",
   "execution_count": 2,
   "metadata": {},
   "outputs": [
    {
     "name": "stdout",
     "output_type": "stream",
     "text": [
      "[1] 5 7 9\n"
     ]
    }
   ],
   "source": [
    "somme_vecteurs <- c(1, 2, 3) + c(4, 5, 6)\n",
    "print(somme_vecteurs)"
   ]
  },
  {
   "cell_type": "markdown",
   "metadata": {},
   "source": [
    "Une opération un peu spéciale ici, qu'on appelle *modulo*, et qui renvoie le reste de la division euclidienne :"
   ]
  },
  {
   "cell_type": "code",
   "execution_count": 3,
   "metadata": {},
   "outputs": [
    {
     "name": "stdout",
     "output_type": "stream",
     "text": [
      "[1] 3\n"
     ]
    }
   ],
   "source": [
    "# 13 divisé par 5 = 2 (reste 3)\n",
    "print(13 %% 5)"
   ]
  },
  {
   "cell_type": "markdown",
   "metadata": {},
   "source": [
    "Selon les mêmes règles que la conversion automatique des éléments d'un vecteur pour qu'ils aient le même type, R essaie quand c'est possible de convertir les éléments d'une opération en *double* pour qu'elle soit réalisable :"
   ]
  },
  {
   "cell_type": "code",
   "execution_count": 10,
   "metadata": {},
   "outputs": [
    {
     "name": "stdout",
     "output_type": "stream",
     "text": [
      "[1] 57\n",
      "[1] 3\n"
     ]
    }
   ],
   "source": [
    "somme_bizarre <- 56 + TRUE\n",
    "verite <- TRUE + TRUE + TRUE\n",
    "\n",
    "print(somme_bizarre)\n",
    "print(verite)"
   ]
  },
  {
   "cell_type": "markdown",
   "metadata": {},
   "source": [
    "Toujours pas de conversion automatique du texte :"
   ]
  },
  {
   "cell_type": "code",
   "execution_count": 14,
   "metadata": {},
   "outputs": [
    {
     "ename": "ERROR",
     "evalue": "Error in 41 + \"1\": non-numeric argument to binary operator\n",
     "output_type": "error",
     "traceback": [
      "Error in 41 + \"1\": non-numeric argument to binary operator\nTraceback:\n"
     ]
    }
   ],
   "source": [
    "somme_erreur <- 41 + \"1\"\n",
    "print(somme_erreur)"
   ]
  },
  {
   "cell_type": "markdown",
   "metadata": {},
   "source": [
    "Mais c'est possible de le faire manuellement avec les fonctions `as.integer()` ou `as.double()` par exemple :"
   ]
  },
  {
   "cell_type": "code",
   "execution_count": 15,
   "metadata": {},
   "outputs": [
    {
     "name": "stdout",
     "output_type": "stream",
     "text": [
      "[1] 42\n"
     ]
    }
   ],
   "source": [
    "somme_qui_marche <- 41 + as.double(\"1\")\n",
    "print(somme_qui_marche)"
   ]
  },
  {
   "cell_type": "markdown",
   "metadata": {},
   "source": [
    "### **1.2 Opérations logiques**"
   ]
  },
  {
   "cell_type": "markdown",
   "metadata": {},
   "source": [
    "Les opérateurs logiques et relationnels permettent de vérifier si une condition est \"vraie\" ou non, et renvoient le booléen correspondant (`TRUE` ou `FALSE`). Les plus fréquemment rencontrés sont les suivants :\n",
    "    \n",
    "| Type | Opérateur | Description | Détails |\n",
    "| --- | :---: | --- | --- |\n",
    "| Logique | `&` | AND (= ET) | Affiche `TRUE` si les conditions de part et d'autre de l'opérateur sont toutes deux vérifiées |\n",
    "| Logique | `\\|` | OR (= OU) | Affiche `TRUE` si au moins l'une des conditions de part et d'autre de l'opérateur est vérifiée |\n",
    "| Logique | `!` | NOT | Précède une opération logique et affiche l'inverse du résultat de celle-ci |\n",
    "| Relationnel | `==` | est égal à | |\n",
    "| Relationnel | `<` | est inférieur à | |\n",
    "| Relationnel | `<=` | est inférieur ou égal à | |\n",
    "| Relationnel | `>` | est supérieur à | |\n",
    "| Relationnel | `>=` | est supérieur ou égal à | |\n",
    "| Relationnel | `!=` | est différent de | |"
   ]
  },
  {
   "cell_type": "code",
   "execution_count": 127,
   "metadata": {},
   "outputs": [
    {
     "name": "stdout",
     "output_type": "stream",
     "text": [
      "[1] TRUE\n",
      "[1] FALSE\n",
      "[1] TRUE\n",
      "[1] FALSE\n"
     ]
    }
   ],
   "source": [
    "print(TRUE & TRUE)\n",
    "print(TRUE & FALSE)\n",
    "print(TRUE | FALSE)\n",
    "print(!TRUE)"
   ]
  },
  {
   "cell_type": "markdown",
   "metadata": {},
   "source": [
    "Attention à ne pas confondre l'opérateur `==` (double signe *égal*), qui vérifie une égalité entre deux éléments, et l'opérateur `=` (signe *égal*) qui fait à très peu de chose près la même chose que `<-` (assignation)."
   ]
  },
  {
   "cell_type": "code",
   "execution_count": 118,
   "metadata": {},
   "outputs": [
    {
     "name": "stdout",
     "output_type": "stream",
     "text": [
      "[1] FALSE\n",
      "[1] TRUE\n",
      "[1] TRUE\n",
      "[1] FALSE\n"
     ]
    }
   ],
   "source": [
    "print(1 == 2)\n",
    "print(4 > 3)\n",
    "print(8 <= 10)\n",
    "print(11 != 11)"
   ]
  },
  {
   "cell_type": "markdown",
   "metadata": {},
   "source": [
    "On peut également combiner les opérateurs afin d'évaluer des conditions complexes :"
   ]
  },
  {
   "cell_type": "code",
   "execution_count": 129,
   "metadata": {},
   "outputs": [
    {
     "name": "stdout",
     "output_type": "stream",
     "text": [
      "[1] FALSE\n",
      "[1] TRUE\n",
      "[1] TRUE\n"
     ]
    }
   ],
   "source": [
    "print((4 < 5) & (3 > 9))\n",
    "print((4 < 5) | (3 > 9))\n",
    "print((4 < 5) & !(3 > 9))"
   ]
  },
  {
   "cell_type": "markdown",
   "metadata": {},
   "source": [
    "Lors que les opérateurs sont utilisés avec des vecteurs, les évaluations se font encore une fois deux à deux selon la position dans le vecteur :"
   ]
  },
  {
   "cell_type": "code",
   "execution_count": 120,
   "metadata": {},
   "outputs": [
    {
     "name": "stdout",
     "output_type": "stream",
     "text": [
      "[1]  TRUE FALSE FALSE\n"
     ]
    }
   ],
   "source": [
    "vec1 <- c(6, 2, 9)\n",
    "vec2 <- c(3, 6, 12)\n",
    "print(vec1 >= vec2)"
   ]
  },
  {
   "cell_type": "markdown",
   "metadata": {},
   "source": [
    "On peut aussi utiliser les opérateurs relationnels avec du texte, même si c'est très peu fait en pratique. Pour les opérateurs `<`, `>`, `<=` et `>=`, seule la première lettre est évaluée (la notion d'infériorité ou de supériorité se définit selon la position dans l'alphabet)."
   ]
  },
  {
   "cell_type": "code",
   "execution_count": 123,
   "metadata": {},
   "outputs": [
    {
     "name": "stdout",
     "output_type": "stream",
     "text": [
      "[1] TRUE\n",
      "[1] TRUE\n",
      "[1] TRUE\n"
     ]
    }
   ],
   "source": [
    "print(\"ABC\" == \"ABC\")\n",
    "print(\"A\" < \"B\")\n",
    "print(\"ABC\" < \"B\")"
   ]
  },
  {
   "cell_type": "markdown",
   "metadata": {},
   "source": [
    "### **1.3 Ordonner un vecteur**\n",
    "\n",
    "Pour cela on va utiliser la fonction `sort()` et l'argument `decreasing` (on verra plus tard plus en détail ce qu'est une fonction et ses arguments) :"
   ]
  },
  {
   "cell_type": "code",
   "execution_count": 5,
   "metadata": {},
   "outputs": [
    {
     "name": "stdout",
     "output_type": "stream",
     "text": [
      "[1]   3   4 129\n",
      "[1] 129   4   3\n"
     ]
    }
   ],
   "source": [
    "vecteur_desordonne <- c(129, 4, 3)\n",
    "\n",
    "ordre_croissant <- sort(vecteur_desordonne, decreasing=FALSE)\n",
    "ordre_decroissant <- sort(vecteur_desordonne, decreasing=TRUE)\n",
    "\n",
    "print(ordre_croissant)\n",
    "print(ordre_decroissant)"
   ]
  },
  {
   "cell_type": "markdown",
   "metadata": {},
   "source": [
    "## **2. Les listes**\n",
    "\n",
    "On ne va pas beaucoup s'attarder sur les listes simples dans cette partie, pour la bonne raison qu'une liste est la même chose qu'un vecteur atomique, sauf qu'elle peut accueillir des éléments de types différents en son sein :"
   ]
  },
  {
   "cell_type": "code",
   "execution_count": 38,
   "metadata": {},
   "outputs": [
    {
     "name": "stdout",
     "output_type": "stream",
     "text": [
      "[[1]]\n",
      "[1] \"Ambroise Paré\"\n",
      "\n",
      "[[2]]\n",
      "[1] 92\n",
      "\n"
     ]
    }
   ],
   "source": [
    "hopital <- list(\"Ambroise Paré\", 92)\n",
    "print(hopital)"
   ]
  },
  {
   "cell_type": "markdown",
   "metadata": {},
   "source": [
    "Je passe rapidement dessus, mais l'un des objets les plus importants de R, celui qui nous permet de traiter les données que l'on rencontre au quotidien (le **data frame**), est en réalité bien une liste. Et on aura le temps d'y revenir dans un chapitre ultérieur qui y sera entièrement dédié !"
   ]
  },
  {
   "cell_type": "markdown",
   "metadata": {},
   "source": [
    "## **3. Accéder aux éléments d'un vecteur**\n",
    "\n",
    "### **3.1 Indices**\n",
    "\n",
    "Afin d'accéder aux éléments d'un vecteur, on utilise des crochets `[]` directement à la suite du vecteur, avec l'indice de position de l'élément en question entre les crochets :"
   ]
  },
  {
   "cell_type": "code",
   "execution_count": 144,
   "metadata": {},
   "outputs": [
    {
     "name": "stdout",
     "output_type": "stream",
     "text": [
      "[1] \"santé\"\n"
     ]
    }
   ],
   "source": [
    "vecteur_lambda <- c(\"Vive\", \"la\", \"santé\", \"publique\", \"!\")\n",
    "print(vecteur_lambda[3])"
   ]
  },
  {
   "cell_type": "markdown",
   "metadata": {},
   "source": [
    "En utilisant un indice négatif entre les crochets, R affiche le vecteur en omettant l'élément correspondant :"
   ]
  },
  {
   "cell_type": "code",
   "execution_count": 145,
   "metadata": {},
   "outputs": [
    {
     "name": "stdout",
     "output_type": "stream",
     "text": [
      "[1] \"Vive\"  \"la\"    \"santé\" \"!\"    \n"
     ]
    }
   ],
   "source": [
    "lambda_ampute <- vecteur_lambda[-4]\n",
    "print(lambda_ampute)"
   ]
  },
  {
   "cell_type": "markdown",
   "metadata": {},
   "source": [
    "### **3.2 Filtres conditionnels**"
   ]
  },
  {
   "cell_type": "markdown",
   "metadata": {},
   "source": [
    "Une autre méthode pour sélectionner les éléments d'un vecteur, consiste à écrire entre les crochets un vecteur de booléens, de la même longueur que le vecteur d'intérêt :"
   ]
  },
  {
   "cell_type": "code",
   "execution_count": 146,
   "metadata": {},
   "outputs": [
    {
     "name": "stdout",
     "output_type": "stream",
     "text": [
      "[1] \"Vive\"  \"santé\" \"!\"    \n"
     ]
    }
   ],
   "source": [
    "vecteur_absurde <- vecteur_lambda[c(TRUE, FALSE, TRUE, FALSE, TRUE)]\n",
    "print(vecteur_absurde)"
   ]
  },
  {
   "cell_type": "markdown",
   "metadata": {},
   "source": [
    "Ça peut paraître rébarbatif au premier abord, mais c'est en réalité très utile pour accéder à des éléments qui remplissent une certaine **condition**, que l'on va préciser grâce aux opérations logiques que l'on a vu plus haut :"
   ]
  },
  {
   "cell_type": "code",
   "execution_count": 28,
   "metadata": {},
   "outputs": [
    {
     "name": "stdout",
     "output_type": "stream",
     "text": [
      "[1] FALSE FALSE  TRUE  TRUE FALSE\n"
     ]
    }
   ],
   "source": [
    "enumeration <- c(1, 2, 7, 8, 3)\n",
    "filtre <- enumeration >= 5\n",
    "print(filtre)"
   ]
  },
  {
   "cell_type": "markdown",
   "metadata": {},
   "source": [
    "R a donc vérifié la condition, à savoir `enumeration >= 5` sur chacun des éléments du vecteur `enumeration`, comme si on avait fait l'opération `enumeration >= c(5, 5, 5, 5, 5)`. En effet, lorsqu'une opération s'effectue entre deux vecteurs de longueur différente, R prend le plus petit et le répète jusqu'à atteindre la longueur du vecteur le plus grand. Par exemple :"
   ]
  },
  {
   "cell_type": "code",
   "execution_count": 29,
   "metadata": {},
   "outputs": [
    {
     "name": "stderr",
     "output_type": "stream",
     "text": [
      "Warning message in enumeration >= c(2, 3):\n",
      "“longer object length is not a multiple of shorter object length”"
     ]
    },
    {
     "name": "stdout",
     "output_type": "stream",
     "text": [
      "[1] FALSE FALSE  TRUE  TRUE  TRUE\n"
     ]
    }
   ],
   "source": [
    "filtre_diff <- enumeration >= c(2, 3)\n",
    "print(filtre_diff)"
   ]
  },
  {
   "cell_type": "markdown",
   "metadata": {},
   "source": [
    "Ici R a effectué l'opération `enumeration >= c(2, 3, 2, 3, 2)`, et on est prévenu par un message que la longueur du vecteur le plus long n'est pas un multiple de la longueur du vecteur le plus court. Un dernier filtre pour la route pour illustrer au passage l'utilité du *modulo* (`%%`) :"
   ]
  },
  {
   "cell_type": "code",
   "execution_count": 30,
   "metadata": {},
   "outputs": [
    {
     "name": "stdout",
     "output_type": "stream",
     "text": [
      "[1] FALSE  TRUE FALSE  TRUE FALSE\n"
     ]
    }
   ],
   "source": [
    "# Un nombre est pair si le reste de sa division \n",
    "# euclidienne par 2 est égal à zéro\n",
    "filtre_pair <- enumeration %% 2 == 0\n",
    "print(filtre_pair)"
   ]
  },
  {
   "cell_type": "markdown",
   "metadata": {},
   "source": [
    "Enfin on va pouvoir faire usage de nos filtres comme si on voulait sélectionner les éléments d'un vecteur avec des booléens :"
   ]
  },
  {
   "cell_type": "code",
   "execution_count": 31,
   "metadata": {},
   "outputs": [
    {
     "name": "stdout",
     "output_type": "stream",
     "text": [
      "[1] 7 8\n",
      "[1] 7 8 3\n",
      "[1] 2 8\n"
     ]
    }
   ],
   "source": [
    "print(enumeration[filtre])\n",
    "print(enumeration[filtre_diff])\n",
    "print(enumeration[filtre_pair])"
   ]
  },
  {
   "cell_type": "markdown",
   "metadata": {},
   "source": [
    "Vous en savez maintenant suffisamment pour manipuler des vecteurs (vecteurs atomiques et listes). Et même si vous êtes en train de penser qu'on manipule beaucoup plus souvent des données tabulaires (ce qu'on verra au prochain chapitre), détrompez-vous, les **data frames** sont en fait des listes de vecteurs atomiques... Mais je ne vous embrouille pas plus, et passons au chapitre suivant !"
   ]
  }
 ],
 "metadata": {
  "kernelspec": {
   "display_name": "R",
   "language": "R",
   "name": "ir"
  },
  "language_info": {
   "codemirror_mode": "r",
   "file_extension": ".r",
   "mimetype": "text/x-r-source",
   "name": "R",
   "pygments_lexer": "r",
   "version": "3.6.1"
  }
 },
 "nbformat": 4,
 "nbformat_minor": 4
}
