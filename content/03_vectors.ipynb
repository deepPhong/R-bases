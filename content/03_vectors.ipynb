{
 "cells": [
  {
   "cell_type": "markdown",
   "metadata": {},
   "source": [
    "# **Chapitre 3 : Les vecteurs**\n",
    "\n",
    "Les vecteurs constituent la classe d'objets la plus importante de R. On va voir par la suite qu'à partir de ces vecteurs, on va pouvoir construire tous les autres objets qui nous intéressent. Vous vous rappelez peut-être qu'au chapitre précédent, on a divisé les vecteurs en deux sous-classes, les **vecteurs atomiques** et les **listes**. Les premiers ne peuvent contenir que des éléments du même type, au contraire des derniers."
   ]
  },
  {
   "cell_type": "markdown",
   "metadata": {
    "tags": [
     "epigraph"
    ]
   },
   "source": [
    "NB : Vous verrez très souvent une simplification de langage consistant à appeler les *vecteurs atomiques* des *vecteurs* tout court. Je vais me permettre de faire la même chose par la suite pour alléger les formulations et parce que c'est ce que vous trouverez sur les forums d'entraide en ligne, mais retenez qu'une liste est également un vecteur."
   ]
  },
  {
   "cell_type": "markdown",
   "metadata": {},
   "source": [
    "## **1. Les vecteurs atomiques**\n",
    "\n",
    "On a vu dans le chapitre précédent qu'ils pouvaient être principalement de quatre types primaires différents (je ne mentionnerai plus par la suite les types *Complex* et *Raw* car ils ne sont que très rarement utilisés) :\n",
    "\n",
    "* **Integer** : les entiers naturels, par convention suivis de la lettre \"L\" (ex : `23L`, `5L`, `0L`)\n",
    "* **Double** : les nombres réels (ex : `23.0`, `12.5`, `0.2334`) et trois valeurs spéciales que sont `Inf`, `-Inf` et `NaN` (*Not a Number*)\n",
    "* **Character** : le texte, par convention entre guillemets (ex : `\"Hello\"`, `\"TRUE\"`, `\"123\"`, `\"3 quarts\"`)\n",
    "* **Logical** : les booléens, variables à deux états, notés par convention *vrai*/*faux* (ex : `TRUE`, `FALSE`)\n",
    "\n",
    "Quelques remarques en vrac :\n",
    "\n",
    "* Sans le \"L\", les entiers naturels sont interprétés comme des *double*\n",
    "* Les booléens `TRUE` et `FALSE` peuvent aussi être abrégés `T` et `F`\n",
    "\n",
    "### **1.1 Instanciation**\n",
    "\n",
    "Pour créer un vecteur atomique, on utilise la fonction `c()` (\"c\" pour *combine*) :"
   ]
  },
  {
   "cell_type": "code",
   "execution_count": 18,
   "metadata": {},
   "outputs": [],
   "source": [
    "int_vect <- c(2L, 35L, 0L)\n",
    "dbl_vect <- c(1.23, 2, 0.345)\n",
    "chr_vect <- c(\"pbr\", \"bct\", \"abc\")\n",
    "lgl_vect <- c(TRUE, FALSE, TRUE)"
   ]
  },
  {
   "cell_type": "markdown",
   "metadata": {},
   "source": [
    "On peut également combiner plusieurs vecteurs en un avec la même fonction :"
   ]
  },
  {
   "cell_type": "code",
   "execution_count": 23,
   "metadata": {},
   "outputs": [
    {
     "name": "stdout",
     "output_type": "stream",
     "text": [
      "[1] 1 2 3 4 5 6\n"
     ]
    }
   ],
   "source": [
    "lng_vect <- c(c(1, 2, 3), c(4, 5, 6))\n",
    "print(lng_vect)"
   ]
  },
  {
   "cell_type": "markdown",
   "metadata": {},
   "source": [
    "Lorsqu'on combine des éléments de types différents, R va convertir tous les éléments vers le type le plus \"inclusif\" :\n",
    "* Les booléns peuvent être convertis en *Integer*, `TRUE` valant `1` et `FALSE` valant `0`\n",
    "* Les *Integer* peuvent être convertis en *Double*\n",
    "* Les *Double* peuvent être convertis en texte "
   ]
  },
  {
   "cell_type": "code",
   "execution_count": 28,
   "metadata": {},
   "outputs": [
    {
     "name": "stdout",
     "output_type": "stream",
     "text": [
      "[1] \"TRUE\"    \"43\"      \"34.5343\" \"trois\"  \n"
     ]
    }
   ],
   "source": [
    "mix_vect <- c(TRUE, 43L, 34.5343, \"trois\")\n",
    "print(mix_vect)"
   ]
  },
  {
   "cell_type": "markdown",
   "metadata": {},
   "source": [
    "Selon les règles énoncées plus haut, tous les éléments du vecteur ont donc été convertis au format texte."
   ]
  },
  {
   "cell_type": "markdown",
   "metadata": {},
   "source": [
    "### **1.2 Opérations numériques**"
   ]
  },
  {
   "cell_type": "code",
   "execution_count": 124,
   "metadata": {},
   "outputs": [
    {
     "name": "stdout",
     "output_type": "stream",
     "text": [
      "[1] 3\n"
     ]
    }
   ],
   "source": [
    "print(1 + 2)"
   ]
  },
  {
   "cell_type": "code",
   "execution_count": 115,
   "metadata": {},
   "outputs": [
    {
     "name": "stdout",
     "output_type": "stream",
     "text": [
      "[1] -3 -3 -3\n"
     ]
    }
   ],
   "source": [
    "somme_vecteurs <- c(1, 2, 3) - c(4, 5, 6)\n",
    "print(somme_vecteurs)"
   ]
  },
  {
   "cell_type": "code",
   "execution_count": 125,
   "metadata": {},
   "outputs": [
    {
     "name": "stdout",
     "output_type": "stream",
     "text": [
      "[1] 4\n"
     ]
    }
   ],
   "source": [
    "print(9 %% 5)"
   ]
  },
  {
   "cell_type": "code",
   "execution_count": 92,
   "metadata": {},
   "outputs": [
    {
     "name": "stdout",
     "output_type": "stream",
     "text": [
      "[1] 1 2 3 4 5 6\n"
     ]
    }
   ],
   "source": [
    "combinaison_vecteurs <- c(\n",
    "    c(1, 2, 3),\n",
    "    c(4, 5, 6)\n",
    ")\n",
    "print(combinaison_vecteurs)"
   ]
  },
  {
   "cell_type": "markdown",
   "metadata": {},
   "source": [
    "## **2. Opérations logiques**"
   ]
  },
  {
   "cell_type": "markdown",
   "metadata": {},
   "source": [
    "Les opérateurs logiques et relationnels permettent de vérifier si une condition est \"vraie\" ou non, et renvoient le booléen correspondant (`TRUE` ou `FALSE`). Les plus fréquemment rencontrés sont les suivants :\n",
    "    \n",
    "| Type | Opérateur | Description | Détails |\n",
    "| --- | :---: | --- | --- |\n",
    "| Logique | `&` | AND | Affiche `TRUE` si les expressions de part et d'autre de l'opérateur sont toutes deux vraies |\n",
    "| Logique | `\\|` | OR | Affiche `TRUE` si au moins l'une des expressions de part et d'autre de l'opérateur est vraie |\n",
    "| Logique | `!` | NOT | Affiche l'inverse de l'expression évaluée |\n",
    "| Relationnel | `==` | est égal à | |\n",
    "| Relationnel | `<` | est inférieur à | |\n",
    "| Relationnel | `<=` | est inférieur ou égal à | |\n",
    "| Relationnel | `>` | est supérieur à | |\n",
    "| Relationnel | `>=` | est supérieur ou égal à | |\n",
    "| Relationnel | `!=` | est différent de | |"
   ]
  },
  {
   "cell_type": "code",
   "execution_count": 127,
   "metadata": {},
   "outputs": [
    {
     "name": "stdout",
     "output_type": "stream",
     "text": [
      "[1] TRUE\n",
      "[1] FALSE\n",
      "[1] TRUE\n",
      "[1] FALSE\n"
     ]
    }
   ],
   "source": [
    "print(TRUE & TRUE)\n",
    "print(TRUE & FALSE)\n",
    "print(TRUE | FALSE)\n",
    "print(!TRUE)"
   ]
  },
  {
   "cell_type": "code",
   "execution_count": 118,
   "metadata": {},
   "outputs": [
    {
     "name": "stdout",
     "output_type": "stream",
     "text": [
      "[1] FALSE\n",
      "[1] TRUE\n",
      "[1] TRUE\n",
      "[1] FALSE\n"
     ]
    }
   ],
   "source": [
    "print(1 == 2)\n",
    "print(4 > 3)\n",
    "print(8 <= 10)\n",
    "print(11 != 11)"
   ]
  },
  {
   "cell_type": "markdown",
   "metadata": {},
   "source": [
    "On peut également combiner les opérateurs afin d'évaluer des conditions complexes :"
   ]
  },
  {
   "cell_type": "code",
   "execution_count": 129,
   "metadata": {},
   "outputs": [
    {
     "name": "stdout",
     "output_type": "stream",
     "text": [
      "[1] FALSE\n",
      "[1] TRUE\n",
      "[1] TRUE\n"
     ]
    }
   ],
   "source": [
    "print((4 < 5) & (3 > 9))\n",
    "print((4 < 5) | (3 > 9))\n",
    "print((4 < 5) & !(3 > 9))"
   ]
  },
  {
   "cell_type": "markdown",
   "metadata": {},
   "source": [
    "Lors que les opérateurs sont utilisés avec des vecteurs, les évaluations se font deux à deux selon la position dans le vecteur : le premier élément du vecteur 1 est comparé au premier élément du vecteur 2, et ainsi de suite."
   ]
  },
  {
   "cell_type": "code",
   "execution_count": 120,
   "metadata": {},
   "outputs": [
    {
     "name": "stdout",
     "output_type": "stream",
     "text": [
      "[1]  TRUE FALSE FALSE\n"
     ]
    }
   ],
   "source": [
    "vec1 <- c(6, 2, 9)\n",
    "vec2 <- c(3, 6, 12)\n",
    "print(vec1 >= vec2)"
   ]
  },
  {
   "cell_type": "markdown",
   "metadata": {},
   "source": [
    "On peut également utiliser les opérateurs relationnels avec le chaînes de caractères ! Pour les opérateurs `<`, `>`, `<=` et `>=`, seule la première lettre est évaluée (la notion d'infériorité ou de supériorité se définit selon la position dans l'alphabet)."
   ]
  },
  {
   "cell_type": "code",
   "execution_count": 123,
   "metadata": {},
   "outputs": [
    {
     "name": "stdout",
     "output_type": "stream",
     "text": [
      "[1] TRUE\n",
      "[1] TRUE\n",
      "[1] TRUE\n"
     ]
    }
   ],
   "source": [
    "print(\"ABC\" == \"ABC\")\n",
    "print(\"A\" < \"B\")\n",
    "print(\"ABC\" < \"B\")"
   ]
  },
  {
   "cell_type": "markdown",
   "metadata": {},
   "source": [
    "## **3. Ordonner un vecteur**"
   ]
  },
  {
   "cell_type": "code",
   "execution_count": 141,
   "metadata": {},
   "outputs": [
    {
     "name": "stdout",
     "output_type": "stream",
     "text": [
      "[1]   3   4 129\n",
      "[1] 129   4   3\n"
     ]
    }
   ],
   "source": [
    "bazar <- c(129, 4, 3)\n",
    "ordre_croissant <- sort(bazar, decreasing=FALSE)\n",
    "ordre_decroissant <- sort(bazar, decreasing=TRUE)\n",
    "print(ordre_croissant)\n",
    "print(ordre_decroissant)"
   ]
  },
  {
   "cell_type": "markdown",
   "metadata": {},
   "source": [
    "## **4. Accéder aux éléments d'un vecteur**\n",
    "\n",
    "Afin d'accéder aux éléments d'un vecteur, on utilise les crochets `[]` à la suite du vecteur, avec l'indice de position de l'élément en question entre les crochets :"
   ]
  },
  {
   "cell_type": "code",
   "execution_count": 144,
   "metadata": {},
   "outputs": [
    {
     "name": "stdout",
     "output_type": "stream",
     "text": [
      "[1] \"santé\"\n"
     ]
    }
   ],
   "source": [
    "vecteur_lambda <- c(\"Vive\", \"la\", \"santé\", \"publique\", \"!\")\n",
    "print(vecteur_lambda[3])"
   ]
  },
  {
   "cell_type": "markdown",
   "metadata": {},
   "source": [
    "En utilisant un indice négatif entre les crochets, R affiche le vecteur en omettant l'élément correspondant :"
   ]
  },
  {
   "cell_type": "code",
   "execution_count": 145,
   "metadata": {},
   "outputs": [
    {
     "name": "stdout",
     "output_type": "stream",
     "text": [
      "[1] \"Vive\"  \"la\"    \"santé\" \"!\"    \n"
     ]
    }
   ],
   "source": [
    "vecteur_lambda_ampute <- vecteur_lambda[-4]\n",
    "print(vecteur_lambda_ampute)"
   ]
  },
  {
   "cell_type": "markdown",
   "metadata": {},
   "source": [
    "Une autre méthode pour sélectionner les éléments d'un vecteur, qui peut s'avérer utile dans certaines situations, consiste à écrire entre les crochets un vecteur de booléens, de la même longueur que le vecteur d'intérêt :"
   ]
  },
  {
   "cell_type": "code",
   "execution_count": 146,
   "metadata": {},
   "outputs": [
    {
     "name": "stdout",
     "output_type": "stream",
     "text": [
      "[1] \"Vive\"  \"santé\" \"!\"    \n"
     ]
    }
   ],
   "source": [
    "vecteur_absurde <- vecteur_lambda[c(TRUE, FALSE, TRUE, FALSE, TRUE)]\n",
    "print(vecteur_absurde)"
   ]
  },
  {
   "cell_type": "markdown",
   "metadata": {},
   "source": [
    "[Retour au sommaire](00_master.ipynb) <br>\n",
    "Cours précédent : [Types d'objets et de données](02_types.ipynb) <br>\n",
    "Cours suivant : [Manipulation et transformation de Data Frames](04_data-frames.ipynb)"
   ]
  }
 ],
 "metadata": {
  "kernelspec": {
   "display_name": "R",
   "language": "R",
   "name": "ir"
  },
  "language_info": {
   "codemirror_mode": "r",
   "file_extension": ".r",
   "mimetype": "text/x-r-source",
   "name": "R",
   "pygments_lexer": "r",
   "version": "3.6.1"
  }
 },
 "nbformat": 4,
 "nbformat_minor": 4
}
