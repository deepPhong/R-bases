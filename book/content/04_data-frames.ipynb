{
 "cells": [
  {
   "cell_type": "markdown",
   "metadata": {},
   "source": [
    "# **Chapitre 4 : Manipulation et transformation de Data Frames**\n",
    "\n",
    "Entrons maintenant dans le vif du sujet, à savoir la manipulation de données tabulaires. C'est le format le plus communément rencontré, et un des moyens de les représenter sur R est le Data Frame.\n",
    "\n",
    "## **1. Importer des données**\n",
    "\n",
    "Nous allons voir comment importer des données au format CSV, à l'aide d'une extraction du recrutement géographique de l'hôpital Bicêtre en 2018, disponible sur le site de [cartographie de l'ATIH](http://cartographie.atih.sante.fr). R possède de base plusieurs fonctions prévues à cet effet; commençons par essayer `read.csv()`, dont le nom semble convenir à ce que nous souhaitons faire. Nous afficherons ensuite les 6 premières lignes du tableau à l'aide de la fonction `head()`."
   ]
  },
  {
   "cell_type": "code",
   "execution_count": 2,
   "metadata": {},
   "outputs": [
    {
     "name": "stdout",
     "output_type": "stream",
     "text": [
      "                                              Cartographie.PMSI...\n",
      "1 Référentiel géographique : France par code géographique PMSI; ; \n",
      "2          Code;Libellé;Séjours PMSI MCO au lieu de résidence 2018\n",
      "3                                        01000;BOURG-EN-BRESSE;N/A\n",
      "4                                    01090;MONTMERLE-SUR-SAÔNE;N/A\n",
      "5                                                01100;OYONNAX;N/A\n",
      "6                                   01110;PLATEAU D'HAUTEVILLE;N/A\n"
     ]
    }
   ],
   "source": [
    "data <- read.csv(\"donnees/2018_bicetre.csv\")\n",
    "print(head(data))"
   ]
  },
  {
   "cell_type": "markdown",
   "metadata": {},
   "source": [
    "Les données ont bien été importées, mais pas elles n'ont pas vraiment la forme que l'on souhaite. En regardant de plus près les données, on s'aperçoit de plusieurs choses :\n",
    "\n",
    "* Les différentes colonnes sont séparées par des **points-virgules** (au lieu de virgules)\n",
    "* Le titre des colonnes n'est qu'à la **3e ligne** (au lieu de la première ligne)\n",
    "* Les données manquantes sont signalées par la châine de caractères **\"N/A\"**\n",
    "\n",
    "On en conclut donc que notre CSV est au format français (+ quelques autres pays), c'est-à-dire séparation des colonnes par des points-virgules et séparation de la partie décimale des nombres par une virgule (au lieu d'un point). On va donc pouvoir relancer la fonction `read.csv()` avec des **arguments** différents afin de prendre tout cela en compte.\n",
    "\n",
    "## **_Interlude : les fonctions_**\n",
    "\n",
    "Depuis le début nous utilisons des fonctions (vous aurez remarqué que je les suffixe toujours de parenthèses sous la forme `fonction()`) sans vraiment savoir ce qu'elles sont. Très simplement, une fonction est un **ensemble de commandes prédéfinies** qui seront exécutées lorsque cette fonction sera appelée. Il existe un grand nombre de **fonctions toutes faites fournies par R** officiellement (les \"built-in functions\"), et bien plus encore qui sont partagées par la communauté des développeurs R sous la forme de ce qu'on appelle des **librairies** (ou des packages). On peut également en créer nous-mêmes pour automatiser des tâches répétitives, et la syntaxe est la suivante :"
   ]
  },
  {
   "cell_type": "raw",
   "metadata": {},
   "source": [
    "nom_de_la_fonction <- function(argument_1, argument_2 ...) {\n",
    "   Corps de la fonction\n",
    "   return(objet_a_retourner)\n",
    "}"
   ]
  },
  {
   "cell_type": "markdown",
   "metadata": {},
   "source": [
    "* **Nom de la fonction** : dans R, les fonctions sont également des objets, et on peut donc les stocker dans des variables comme on l'a fait précédemment pour des chiffres, des vecteurs, etc.\n",
    "* **Arguments** : lorsque l'on appelle une fonction, on lui fournit (optionnellement) des objets, qui seront stockés dans des variables fictives qu'on appelle les arguments, et qui seront utilisées dans le corps de la fonction\n",
    "* **Corps de la fonction** : ensemble des commandes prédéfinies, qui font usage des arguments\n",
    "* **Objet à retourner** : une fonction prend des objets en entrée, et retourne des objets en sortie. Par défaut, une fonction retourne le résultat de la dernière commande du corps de la fonction, mais on peut aussi explicitement retourner ce que l'on souhaite en spécifiant la fonction `return()`\n",
    "\n",
    "Tout sera plus clair avec un exemple; définissons une fonction `somme()` qui prend entrée deux arguments et qui retourne leur somme (lancez la cellule suivante afin d'instancier la fonction) :"
   ]
  },
  {
   "cell_type": "code",
   "execution_count": 26,
   "metadata": {},
   "outputs": [],
   "source": [
    "somme <- function(x, y = 3) {\n",
    "    resultat <- x + y\n",
    "    return(resultat)\n",
    "}"
   ]
  },
  {
   "cell_type": "markdown",
   "metadata": {},
   "source": [
    "Vous aurez remarqué que dans la déclaration des arguments, nous avons attribué une valeur à `y` (mais pas à `x`). C'est ce qu'on appelle une valeur par défaut; nous allons revenir rapidement dessus. Maintenant que nous avons défini notre fonction, lançons la cellule suivante pour la tester dans plusieurs situations :"
   ]
  },
  {
   "cell_type": "code",
   "execution_count": 31,
   "metadata": {},
   "outputs": [
    {
     "name": "stdout",
     "output_type": "stream",
     "text": [
      "[1] 7\n",
      "[1] 5\n",
      "[1] 5\n"
     ]
    },
    {
     "ename": "ERROR",
     "evalue": "Error in somme(y = 5): argument \"x\" is missing, with no default\n",
     "output_type": "error",
     "traceback": [
      "Error in somme(y = 5): argument \"x\" is missing, with no default\nTraceback:\n",
      "1. print(somme(y = 5))",
      "2. somme(y = 5)"
     ]
    }
   ],
   "source": [
    "print(somme(2, 5))\n",
    "print(somme(2))\n",
    "print(somme(x=2))\n",
    "print(somme(y=5))"
   ]
  },
  {
   "cell_type": "markdown",
   "metadata": {},
   "source": [
    "Analysons les réponses de nos quatre appels à la fonction `somme()` :\n",
    "\n",
    "* Dans le premier cas, on a appelé la fonction avec comme arguments `x = 2` et `y = 5`, et le résultat est donc bien `2 + 5 = 7`\n",
    "* Dans le deuxième cas, la fonction n'a été appelée qu'avec un seul argument. Il a automatiquement été associé à `x`, et comme **nous avions défini par défaut** `y = 3`, la fonction nous retourne donc `x + y = 2 + 3 = 5`\n",
    "* Dans le troisième cas, on a fait exactement pareil qu'au dessus; on a juste déclaré explicitement que 2 devait être attribué à `x`\n",
    "* Dans le dernier cas, nous avons appelé la fonction avec une valeur pour `y`. Cependant, nous n'avions **pas défini de valeur par défaut** pour `x` quand nous avons créé la fonction, et R retourne alors une erreur qui nous le signale.\n",
    "\n",
    "Maintenant vous en savez suffisamment sur les fonctions et leurs arguments pour reprendre où nous en étions restés !\n",
    "\n",
    "## **1bis. Mieux importer des données**\n",
    "\n",
    "On avait donc réussi à importer les données dans l'environnement R avec la fonction `read.csv()`, mais il faudrait prendre en compte quelques particularités pour qu'elles aient la bonne forme :\n",
    "\n",
    "* Les différentes colonnes sont séparées par des **points-virgules** (au lieu de virgules)\n",
    "* Le titre des colonnes n'est qu'à la **3e ligne** (au lieu de la première ligne); nous avons donc 2 lignes inutiles\n",
    "* Les données manquantes sont signalées par la châine de caractères **\"N/A\"**\n",
    "\n",
    "**Exercice** On va donc réessayer avec `read.csv()`, mais cette fois en précisant quelques **arguments** pour l'aider. À vous de jouer en complétant l'appel à la fonction ci-dessous :"
   ]
  },
  {
   "cell_type": "code",
   "execution_count": 1,
   "metadata": {},
   "outputs": [],
   "source": [
    "data <- read.csv(\n",
    "    file = # ici le chemin vers le fichier CSV à importer, \n",
    "    sep = # ici le caractère qui sépare les colonnes dans le fichier CSV,\n",
    "    na.strings = # ici le caractère qui signale les données manquantes, \n",
    "    skip = # ici le nombre de lignes en haut du fichier à sauter, \n",
    "    stringsAsFactors = FALSE\n",
    ")\n",
    "\n",
    "print(head(data))"
   ]
  },
  {
   "cell_type": "code",
   "execution_count": 98,
   "metadata": {},
   "outputs": [
    {
     "name": "stdout",
     "output_type": "stream",
     "text": [
      "\n",
      "> data <- read.csv(file = \"donnees/2018_bicetre.csv\", \n",
      "+     sep = \";\", na.strings = \"N/A\", skip = 2, stringsAsFactors = FALSE)\n",
      "\n",
      "> print(head(data))\n",
      "   Code                     Libellé Séjours.PMSI.MCO.au.lieu.de.résidence.2018\n",
      "1 01000             BOURG-EN-BRESSE                                         NA\n",
      "2 01090         MONTMERLE-SUR-SAÔNE                                         NA\n",
      "3 01100                     OYONNAX                                         NA\n",
      "4 01110        PLATEAU D'HAUTEVILLE                                         NA\n",
      "5 01120                    MONTLUEL                                         NA\n",
      "6 01140 SAINT-DIDIER-SUR-CHALARONNE                                         NA\n"
     ]
    }
   ],
   "source": [
    "# Pour la solution, décommentez la ligne suivante (retirez le \"#\") :\n",
    "source(\"solutions/04_data-frames_import.R\", echo=TRUE)"
   ]
  },
  {
   "cell_type": "markdown",
   "metadata": {},
   "source": [
    "Si tout s'est bien passé, les six premières lignes de nos données devraient maintenant ressembler à ça :\n",
    "\n",
    "       Code                     Libellé Séjours.PMSI.MCO.au.lieu.de.résidence.2018\n",
    "    1 01000             BOURG-EN-BRESSE                                         NA\n",
    "    2 01090         MONTMERLE-SUR-SAÔNE                                         NA\n",
    "    3 01100                     OYONNAX                                         NA\n",
    "    4 01110        PLATEAU D'HAUTEVILLE                                         NA\n",
    "    5 01120                    MONTLUEL                                         NA\n",
    "    6 01140 SAINT-DIDIER-SUR-CHALARONNE                                         NA\n",
    "    \n",
    "C'est déjà mieux ! On a donc une colonne `Code` qui représente le code géographique PMSI, une deuxième colonne `Libellé` qui représente le nom de la commune et une troisième colonne `Séjours.PMSI.MCO.au.lieu.de.résidence.2018` assez explicite."
   ]
  },
  {
   "cell_type": "markdown",
   "metadata": {},
   "source": [
    "## **2. Mieux afficher les Data Frames**\n",
    "\n",
    "On a vu qu'on pouvait afficher le contenu d'une variable dans la console à l'aide de la fonction `print()`. C'est en général suffisant lorsque les données sont uni-dimensionnelles comme un vecteur ou un texte, mais dans le cas de données tabulaires, ça devient vite austère et maladroit. Pour pallier à cela, selon l'environnement de développement (IDE) que vous utilisez, il y a :\n",
    "\n",
    "* **RStudio** : la fonction `View()` permet d'ouvrir un Data Frame dans un tableau\n",
    "* **Jupyter** : il suffit d'enlever la fonction `print()` et d'appeler directement le Data Frame *(on pourrait d'ailleurs en faire de même pour afficher les vecteurs, mais je préfère garder la fonction `print()` dans ces cas là pour un rendu plus consistent qu'avec RStudio)*\n",
    "\n",
    "Voyons voir ce que ça donne dans Jupyter :"
   ]
  },
  {
   "cell_type": "code",
   "execution_count": 12,
   "metadata": {},
   "outputs": [
    {
     "data": {
      "text/html": [
       "<table>\n",
       "<caption>A data.frame: 6 × 3</caption>\n",
       "<thead>\n",
       "\t<tr><th scope=col>Code</th><th scope=col>Libellé</th><th scope=col>Séjours.PMSI.MCO.au.lieu.de.résidence.2018</th></tr>\n",
       "\t<tr><th scope=col>&lt;chr&gt;</th><th scope=col>&lt;chr&gt;</th><th scope=col>&lt;int&gt;</th></tr>\n",
       "</thead>\n",
       "<tbody>\n",
       "\t<tr><td>01000</td><td>BOURG-EN-BRESSE            </td><td>NA</td></tr>\n",
       "\t<tr><td>01090</td><td>MONTMERLE-SUR-SAÔNE        </td><td>NA</td></tr>\n",
       "\t<tr><td>01100</td><td>OYONNAX                    </td><td>NA</td></tr>\n",
       "\t<tr><td>01110</td><td>PLATEAU D'HAUTEVILLE       </td><td>NA</td></tr>\n",
       "\t<tr><td>01120</td><td>MONTLUEL                   </td><td>NA</td></tr>\n",
       "\t<tr><td>01140</td><td>SAINT-DIDIER-SUR-CHALARONNE</td><td>NA</td></tr>\n",
       "</tbody>\n",
       "</table>\n"
      ],
      "text/latex": [
       "A data.frame: 6 × 3\n",
       "\\begin{tabular}{r|lll}\n",
       " Code & Libellé & Séjours.PMSI.MCO.au.lieu.de.résidence.2018\\\\\n",
       " <chr> & <chr> & <int>\\\\\n",
       "\\hline\n",
       "\t 01000 & BOURG-EN-BRESSE             & NA\\\\\n",
       "\t 01090 & MONTMERLE-SUR-SAÔNE         & NA\\\\\n",
       "\t 01100 & OYONNAX                     & NA\\\\\n",
       "\t 01110 & PLATEAU D'HAUTEVILLE        & NA\\\\\n",
       "\t 01120 & MONTLUEL                    & NA\\\\\n",
       "\t 01140 & SAINT-DIDIER-SUR-CHALARONNE & NA\\\\\n",
       "\\end{tabular}\n"
      ],
      "text/markdown": [
       "\n",
       "A data.frame: 6 × 3\n",
       "\n",
       "| Code &lt;chr&gt; | Libellé &lt;chr&gt; | Séjours.PMSI.MCO.au.lieu.de.résidence.2018 &lt;int&gt; |\n",
       "|---|---|---|\n",
       "| 01000 | BOURG-EN-BRESSE             | NA |\n",
       "| 01090 | MONTMERLE-SUR-SAÔNE         | NA |\n",
       "| 01100 | OYONNAX                     | NA |\n",
       "| 01110 | PLATEAU D'HAUTEVILLE        | NA |\n",
       "| 01120 | MONTLUEL                    | NA |\n",
       "| 01140 | SAINT-DIDIER-SUR-CHALARONNE | NA |\n",
       "\n"
      ],
      "text/plain": [
       "  Code  Libellé                     Séjours.PMSI.MCO.au.lieu.de.résidence.2018\n",
       "1 01000 BOURG-EN-BRESSE             NA                                        \n",
       "2 01090 MONTMERLE-SUR-SAÔNE         NA                                        \n",
       "3 01100 OYONNAX                     NA                                        \n",
       "4 01110 PLATEAU D'HAUTEVILLE        NA                                        \n",
       "5 01120 MONTLUEL                    NA                                        \n",
       "6 01140 SAINT-DIDIER-SUR-CHALARONNE NA                                        "
      ]
     },
     "metadata": {},
     "output_type": "display_data"
    }
   ],
   "source": [
    "head(data)"
   ]
  },
  {
   "cell_type": "markdown",
   "metadata": {},
   "source": [
    "Le format est déjà plus sympathique, une ligne nous affiche la taille du tableau au format `nb_lignes x nb_colonnes`, et en dessous de chaque nom de colonne nous avons le type des données contenues dans la colonne (ici, `<chr>` pour character et `<int>` pour integer). Voyons voir maintenant avec l'ensemble des données :"
   ]
  },
  {
   "cell_type": "code",
   "execution_count": 11,
   "metadata": {},
   "outputs": [
    {
     "data": {
      "text/html": [
       "<table>\n",
       "<caption>A data.frame: 5646 × 3</caption>\n",
       "<thead>\n",
       "\t<tr><th scope=col>Code</th><th scope=col>Libellé</th><th scope=col>Séjours.PMSI.MCO.au.lieu.de.résidence.2018</th></tr>\n",
       "\t<tr><th scope=col>&lt;chr&gt;</th><th scope=col>&lt;chr&gt;</th><th scope=col>&lt;int&gt;</th></tr>\n",
       "</thead>\n",
       "<tbody>\n",
       "\t<tr><td>01000</td><td>BOURG-EN-BRESSE            </td><td>NA</td></tr>\n",
       "\t<tr><td>01090</td><td>MONTMERLE-SUR-SAÔNE        </td><td>NA</td></tr>\n",
       "\t<tr><td>01100</td><td>OYONNAX                    </td><td>NA</td></tr>\n",
       "\t<tr><td>01110</td><td>PLATEAU D'HAUTEVILLE       </td><td>NA</td></tr>\n",
       "\t<tr><td>01120</td><td>MONTLUEL                   </td><td>NA</td></tr>\n",
       "\t<tr><td>01140</td><td>SAINT-DIDIER-SUR-CHALARONNE</td><td>NA</td></tr>\n",
       "\t<tr><td>01150</td><td>LAGNIEU                    </td><td>NA</td></tr>\n",
       "\t<tr><td>01160</td><td>PONT-D'AIN                 </td><td>NA</td></tr>\n",
       "\t<tr><td>01170</td><td>GEX                        </td><td>NA</td></tr>\n",
       "\t<tr><td>01190</td><td>PONT-DE-VAUX               </td><td>NA</td></tr>\n",
       "\t<tr><td>01200</td><td>VALSERHÔNE                 </td><td>NA</td></tr>\n",
       "\t<tr><td>01210</td><td>FERNEY-VOLTAIRE            </td><td>NA</td></tr>\n",
       "\t<tr><td>01220</td><td>DIVONNE-LES-BAINS          </td><td>NA</td></tr>\n",
       "\t<tr><td>01230</td><td>SAINT-RAMBERT-EN-BUGEY     </td><td>NA</td></tr>\n",
       "\t<tr><td>01240</td><td>CERTINES                   </td><td>NA</td></tr>\n",
       "\t<tr><td>01250</td><td>CEYZÉRIAT                  </td><td>NA</td></tr>\n",
       "\t<tr><td>01260</td><td>VALROMEY-SUR-SÉRAN         </td><td>NA</td></tr>\n",
       "\t<tr><td>01270</td><td>COLIGNY                    </td><td>NA</td></tr>\n",
       "\t<tr><td>01280</td><td>PRÉVESSIN-MOËNS            </td><td>NA</td></tr>\n",
       "\t<tr><td>01300</td><td>BELLEY                     </td><td>NA</td></tr>\n",
       "\t<tr><td>01310</td><td>POLLIAT                    </td><td>NA</td></tr>\n",
       "\t<tr><td>01320</td><td>CHALAMONT                  </td><td>NA</td></tr>\n",
       "\t<tr><td>01330</td><td>VILLARS-LES-DOMBES         </td><td>NA</td></tr>\n",
       "\t<tr><td>01340</td><td>ATTIGNAT                   </td><td>NA</td></tr>\n",
       "\t<tr><td>01350</td><td>CULOZ                      </td><td>NA</td></tr>\n",
       "\t<tr><td>01360</td><td>BÉLIGNEUX                  </td><td>NA</td></tr>\n",
       "\t<tr><td>01370</td><td>VAL-REVERMONT              </td><td>NA</td></tr>\n",
       "\t<tr><td>01380</td><td>BÂGÉ-DOMMARTIN             </td><td>NA</td></tr>\n",
       "\t<tr><td>01390</td><td>SAINT-ANDRÉ-DE-CORCY       </td><td>NA</td></tr>\n",
       "\t<tr><td>01400</td><td>CHÂTILLON-SUR-CHALARONNE   </td><td>NA</td></tr>\n",
       "\t<tr><td>⋮</td><td>⋮</td><td>⋮</td></tr>\n",
       "\t<tr><td>9D014</td><td>ENTRE-DEUX             </td><td>NA</td></tr>\n",
       "\t<tr><td>9D019</td><td>LA POSSESSION          </td><td>NA</td></tr>\n",
       "\t<tr><td>9D020</td><td>LE PORT                </td><td>NA</td></tr>\n",
       "\t<tr><td>9D025</td><td>LES AVIRONS            </td><td>NA</td></tr>\n",
       "\t<tr><td>9D026</td><td>LES TROIS-BASSINS      </td><td>NA</td></tr>\n",
       "\t<tr><td>9D027</td><td>L'ÉTANG-SALÉ           </td><td>NA</td></tr>\n",
       "\t<tr><td>9D029</td><td>PETITE-ÎLE             </td><td>NA</td></tr>\n",
       "\t<tr><td>9D030</td><td>LE TAMPON              </td><td>NA</td></tr>\n",
       "\t<tr><td>9D031</td><td>LA PLAINE-DES-PALMISTES</td><td>NA</td></tr>\n",
       "\t<tr><td>9D033</td><td>SALAZIE                </td><td>NA</td></tr>\n",
       "\t<tr><td>9D036</td><td>SAINT-LEU              </td><td>NA</td></tr>\n",
       "\t<tr><td>9D038</td><td>SAINTE-MARIE           </td><td>NA</td></tr>\n",
       "\t<tr><td>9D039</td><td>SAINTE-ROSE            </td><td>NA</td></tr>\n",
       "\t<tr><td>9D040</td><td>SAINT-ANDRÉ            </td><td>NA</td></tr>\n",
       "\t<tr><td>9D041</td><td>SAINTE-SUZANNE         </td><td>NA</td></tr>\n",
       "\t<tr><td>9D042</td><td>SAINT-PHILIPPE         </td><td>NA</td></tr>\n",
       "\t<tr><td>9D050</td><td>SAINT-LOUIS            </td><td>NA</td></tr>\n",
       "\t<tr><td>9D060</td><td>SAINT-PAUL             </td><td>NA</td></tr>\n",
       "\t<tr><td>9D070</td><td>SAINT-BENOÎT           </td><td>NA</td></tr>\n",
       "\t<tr><td>9D080</td><td>SAINT-JOSEPH           </td><td>NA</td></tr>\n",
       "\t<tr><td>9F000</td><td>MAMOUDZOU              </td><td>NA</td></tr>\n",
       "\t<tr><td>9F015</td><td>DZAOUDZI               </td><td>NA</td></tr>\n",
       "\t<tr><td>9F020</td><td>CHIRONGUI              </td><td>NA</td></tr>\n",
       "\t<tr><td>9F025</td><td>KANI-KÉLI              </td><td>NA</td></tr>\n",
       "\t<tr><td>9F030</td><td>MTSAMBORO              </td><td>NA</td></tr>\n",
       "\t<tr><td>9F040</td><td>SADA                   </td><td>NA</td></tr>\n",
       "\t<tr><td>9F050</td><td>BANDRABOUA             </td><td>NA</td></tr>\n",
       "\t<tr><td>9F060</td><td>DEMBENI                </td><td>NA</td></tr>\n",
       "\t<tr><td>9F070</td><td>OUANGANI               </td><td>NA</td></tr>\n",
       "\t<tr><td>9F080</td><td>TSINGONI               </td><td>NA</td></tr>\n",
       "</tbody>\n",
       "</table>\n"
      ],
      "text/latex": [
       "A data.frame: 5646 × 3\n",
       "\\begin{tabular}{r|lll}\n",
       " Code & Libellé & Séjours.PMSI.MCO.au.lieu.de.résidence.2018\\\\\n",
       " <chr> & <chr> & <int>\\\\\n",
       "\\hline\n",
       "\t 01000 & BOURG-EN-BRESSE             & NA\\\\\n",
       "\t 01090 & MONTMERLE-SUR-SAÔNE         & NA\\\\\n",
       "\t 01100 & OYONNAX                     & NA\\\\\n",
       "\t 01110 & PLATEAU D'HAUTEVILLE        & NA\\\\\n",
       "\t 01120 & MONTLUEL                    & NA\\\\\n",
       "\t 01140 & SAINT-DIDIER-SUR-CHALARONNE & NA\\\\\n",
       "\t 01150 & LAGNIEU                     & NA\\\\\n",
       "\t 01160 & PONT-D'AIN                  & NA\\\\\n",
       "\t 01170 & GEX                         & NA\\\\\n",
       "\t 01190 & PONT-DE-VAUX                & NA\\\\\n",
       "\t 01200 & VALSERHÔNE                  & NA\\\\\n",
       "\t 01210 & FERNEY-VOLTAIRE             & NA\\\\\n",
       "\t 01220 & DIVONNE-LES-BAINS           & NA\\\\\n",
       "\t 01230 & SAINT-RAMBERT-EN-BUGEY      & NA\\\\\n",
       "\t 01240 & CERTINES                    & NA\\\\\n",
       "\t 01250 & CEYZÉRIAT                   & NA\\\\\n",
       "\t 01260 & VALROMEY-SUR-SÉRAN          & NA\\\\\n",
       "\t 01270 & COLIGNY                     & NA\\\\\n",
       "\t 01280 & PRÉVESSIN-MOËNS             & NA\\\\\n",
       "\t 01300 & BELLEY                      & NA\\\\\n",
       "\t 01310 & POLLIAT                     & NA\\\\\n",
       "\t 01320 & CHALAMONT                   & NA\\\\\n",
       "\t 01330 & VILLARS-LES-DOMBES          & NA\\\\\n",
       "\t 01340 & ATTIGNAT                    & NA\\\\\n",
       "\t 01350 & CULOZ                       & NA\\\\\n",
       "\t 01360 & BÉLIGNEUX                   & NA\\\\\n",
       "\t 01370 & VAL-REVERMONT               & NA\\\\\n",
       "\t 01380 & BÂGÉ-DOMMARTIN              & NA\\\\\n",
       "\t 01390 & SAINT-ANDRÉ-DE-CORCY        & NA\\\\\n",
       "\t 01400 & CHÂTILLON-SUR-CHALARONNE    & NA\\\\\n",
       "\t ⋮ & ⋮ & ⋮\\\\\n",
       "\t 9D014 & ENTRE-DEUX              & NA\\\\\n",
       "\t 9D019 & LA POSSESSION           & NA\\\\\n",
       "\t 9D020 & LE PORT                 & NA\\\\\n",
       "\t 9D025 & LES AVIRONS             & NA\\\\\n",
       "\t 9D026 & LES TROIS-BASSINS       & NA\\\\\n",
       "\t 9D027 & L'ÉTANG-SALÉ            & NA\\\\\n",
       "\t 9D029 & PETITE-ÎLE              & NA\\\\\n",
       "\t 9D030 & LE TAMPON               & NA\\\\\n",
       "\t 9D031 & LA PLAINE-DES-PALMISTES & NA\\\\\n",
       "\t 9D033 & SALAZIE                 & NA\\\\\n",
       "\t 9D036 & SAINT-LEU               & NA\\\\\n",
       "\t 9D038 & SAINTE-MARIE            & NA\\\\\n",
       "\t 9D039 & SAINTE-ROSE             & NA\\\\\n",
       "\t 9D040 & SAINT-ANDRÉ             & NA\\\\\n",
       "\t 9D041 & SAINTE-SUZANNE          & NA\\\\\n",
       "\t 9D042 & SAINT-PHILIPPE          & NA\\\\\n",
       "\t 9D050 & SAINT-LOUIS             & NA\\\\\n",
       "\t 9D060 & SAINT-PAUL              & NA\\\\\n",
       "\t 9D070 & SAINT-BENOÎT            & NA\\\\\n",
       "\t 9D080 & SAINT-JOSEPH            & NA\\\\\n",
       "\t 9F000 & MAMOUDZOU               & NA\\\\\n",
       "\t 9F015 & DZAOUDZI                & NA\\\\\n",
       "\t 9F020 & CHIRONGUI               & NA\\\\\n",
       "\t 9F025 & KANI-KÉLI               & NA\\\\\n",
       "\t 9F030 & MTSAMBORO               & NA\\\\\n",
       "\t 9F040 & SADA                    & NA\\\\\n",
       "\t 9F050 & BANDRABOUA              & NA\\\\\n",
       "\t 9F060 & DEMBENI                 & NA\\\\\n",
       "\t 9F070 & OUANGANI                & NA\\\\\n",
       "\t 9F080 & TSINGONI                & NA\\\\\n",
       "\\end{tabular}\n"
      ],
      "text/markdown": [
       "\n",
       "A data.frame: 5646 × 3\n",
       "\n",
       "| Code &lt;chr&gt; | Libellé &lt;chr&gt; | Séjours.PMSI.MCO.au.lieu.de.résidence.2018 &lt;int&gt; |\n",
       "|---|---|---|\n",
       "| 01000 | BOURG-EN-BRESSE             | NA |\n",
       "| 01090 | MONTMERLE-SUR-SAÔNE         | NA |\n",
       "| 01100 | OYONNAX                     | NA |\n",
       "| 01110 | PLATEAU D'HAUTEVILLE        | NA |\n",
       "| 01120 | MONTLUEL                    | NA |\n",
       "| 01140 | SAINT-DIDIER-SUR-CHALARONNE | NA |\n",
       "| 01150 | LAGNIEU                     | NA |\n",
       "| 01160 | PONT-D'AIN                  | NA |\n",
       "| 01170 | GEX                         | NA |\n",
       "| 01190 | PONT-DE-VAUX                | NA |\n",
       "| 01200 | VALSERHÔNE                  | NA |\n",
       "| 01210 | FERNEY-VOLTAIRE             | NA |\n",
       "| 01220 | DIVONNE-LES-BAINS           | NA |\n",
       "| 01230 | SAINT-RAMBERT-EN-BUGEY      | NA |\n",
       "| 01240 | CERTINES                    | NA |\n",
       "| 01250 | CEYZÉRIAT                   | NA |\n",
       "| 01260 | VALROMEY-SUR-SÉRAN          | NA |\n",
       "| 01270 | COLIGNY                     | NA |\n",
       "| 01280 | PRÉVESSIN-MOËNS             | NA |\n",
       "| 01300 | BELLEY                      | NA |\n",
       "| 01310 | POLLIAT                     | NA |\n",
       "| 01320 | CHALAMONT                   | NA |\n",
       "| 01330 | VILLARS-LES-DOMBES          | NA |\n",
       "| 01340 | ATTIGNAT                    | NA |\n",
       "| 01350 | CULOZ                       | NA |\n",
       "| 01360 | BÉLIGNEUX                   | NA |\n",
       "| 01370 | VAL-REVERMONT               | NA |\n",
       "| 01380 | BÂGÉ-DOMMARTIN              | NA |\n",
       "| 01390 | SAINT-ANDRÉ-DE-CORCY        | NA |\n",
       "| 01400 | CHÂTILLON-SUR-CHALARONNE    | NA |\n",
       "| ⋮ | ⋮ | ⋮ |\n",
       "| 9D014 | ENTRE-DEUX              | NA |\n",
       "| 9D019 | LA POSSESSION           | NA |\n",
       "| 9D020 | LE PORT                 | NA |\n",
       "| 9D025 | LES AVIRONS             | NA |\n",
       "| 9D026 | LES TROIS-BASSINS       | NA |\n",
       "| 9D027 | L'ÉTANG-SALÉ            | NA |\n",
       "| 9D029 | PETITE-ÎLE              | NA |\n",
       "| 9D030 | LE TAMPON               | NA |\n",
       "| 9D031 | LA PLAINE-DES-PALMISTES | NA |\n",
       "| 9D033 | SALAZIE                 | NA |\n",
       "| 9D036 | SAINT-LEU               | NA |\n",
       "| 9D038 | SAINTE-MARIE            | NA |\n",
       "| 9D039 | SAINTE-ROSE             | NA |\n",
       "| 9D040 | SAINT-ANDRÉ             | NA |\n",
       "| 9D041 | SAINTE-SUZANNE          | NA |\n",
       "| 9D042 | SAINT-PHILIPPE          | NA |\n",
       "| 9D050 | SAINT-LOUIS             | NA |\n",
       "| 9D060 | SAINT-PAUL              | NA |\n",
       "| 9D070 | SAINT-BENOÎT            | NA |\n",
       "| 9D080 | SAINT-JOSEPH            | NA |\n",
       "| 9F000 | MAMOUDZOU               | NA |\n",
       "| 9F015 | DZAOUDZI                | NA |\n",
       "| 9F020 | CHIRONGUI               | NA |\n",
       "| 9F025 | KANI-KÉLI               | NA |\n",
       "| 9F030 | MTSAMBORO               | NA |\n",
       "| 9F040 | SADA                    | NA |\n",
       "| 9F050 | BANDRABOUA              | NA |\n",
       "| 9F060 | DEMBENI                 | NA |\n",
       "| 9F070 | OUANGANI                | NA |\n",
       "| 9F080 | TSINGONI                | NA |\n",
       "\n"
      ],
      "text/plain": [
       "     Code  Libellé                    \n",
       "1    01000 BOURG-EN-BRESSE            \n",
       "2    01090 MONTMERLE-SUR-SAÔNE        \n",
       "3    01100 OYONNAX                    \n",
       "4    01110 PLATEAU D'HAUTEVILLE       \n",
       "5    01120 MONTLUEL                   \n",
       "6    01140 SAINT-DIDIER-SUR-CHALARONNE\n",
       "7    01150 LAGNIEU                    \n",
       "8    01160 PONT-D'AIN                 \n",
       "9    01170 GEX                        \n",
       "10   01190 PONT-DE-VAUX               \n",
       "11   01200 VALSERHÔNE                 \n",
       "12   01210 FERNEY-VOLTAIRE            \n",
       "13   01220 DIVONNE-LES-BAINS          \n",
       "14   01230 SAINT-RAMBERT-EN-BUGEY     \n",
       "15   01240 CERTINES                   \n",
       "16   01250 CEYZÉRIAT                  \n",
       "17   01260 VALROMEY-SUR-SÉRAN         \n",
       "18   01270 COLIGNY                    \n",
       "19   01280 PRÉVESSIN-MOËNS            \n",
       "20   01300 BELLEY                     \n",
       "21   01310 POLLIAT                    \n",
       "22   01320 CHALAMONT                  \n",
       "23   01330 VILLARS-LES-DOMBES         \n",
       "24   01340 ATTIGNAT                   \n",
       "25   01350 CULOZ                      \n",
       "26   01360 BÉLIGNEUX                  \n",
       "27   01370 VAL-REVERMONT              \n",
       "28   01380 BÂGÉ-DOMMARTIN             \n",
       "29   01390 SAINT-ANDRÉ-DE-CORCY       \n",
       "30   01400 CHÂTILLON-SUR-CHALARONNE   \n",
       "⋮    ⋮     ⋮                          \n",
       "5617 9D014 ENTRE-DEUX                 \n",
       "5618 9D019 LA POSSESSION              \n",
       "5619 9D020 LE PORT                    \n",
       "5620 9D025 LES AVIRONS                \n",
       "5621 9D026 LES TROIS-BASSINS          \n",
       "5622 9D027 L'ÉTANG-SALÉ               \n",
       "5623 9D029 PETITE-ÎLE                 \n",
       "5624 9D030 LE TAMPON                  \n",
       "5625 9D031 LA PLAINE-DES-PALMISTES    \n",
       "5626 9D033 SALAZIE                    \n",
       "5627 9D036 SAINT-LEU                  \n",
       "5628 9D038 SAINTE-MARIE               \n",
       "5629 9D039 SAINTE-ROSE                \n",
       "5630 9D040 SAINT-ANDRÉ                \n",
       "5631 9D041 SAINTE-SUZANNE             \n",
       "5632 9D042 SAINT-PHILIPPE             \n",
       "5633 9D050 SAINT-LOUIS                \n",
       "5634 9D060 SAINT-PAUL                 \n",
       "5635 9D070 SAINT-BENOÎT               \n",
       "5636 9D080 SAINT-JOSEPH               \n",
       "5637 9F000 MAMOUDZOU                  \n",
       "5638 9F015 DZAOUDZI                   \n",
       "5639 9F020 CHIRONGUI                  \n",
       "5640 9F025 KANI-KÉLI                  \n",
       "5641 9F030 MTSAMBORO                  \n",
       "5642 9F040 SADA                       \n",
       "5643 9F050 BANDRABOUA                 \n",
       "5644 9F060 DEMBENI                    \n",
       "5645 9F070 OUANGANI                   \n",
       "5646 9F080 TSINGONI                   \n",
       "     Séjours.PMSI.MCO.au.lieu.de.résidence.2018\n",
       "1    NA                                        \n",
       "2    NA                                        \n",
       "3    NA                                        \n",
       "4    NA                                        \n",
       "5    NA                                        \n",
       "6    NA                                        \n",
       "7    NA                                        \n",
       "8    NA                                        \n",
       "9    NA                                        \n",
       "10   NA                                        \n",
       "11   NA                                        \n",
       "12   NA                                        \n",
       "13   NA                                        \n",
       "14   NA                                        \n",
       "15   NA                                        \n",
       "16   NA                                        \n",
       "17   NA                                        \n",
       "18   NA                                        \n",
       "19   NA                                        \n",
       "20   NA                                        \n",
       "21   NA                                        \n",
       "22   NA                                        \n",
       "23   NA                                        \n",
       "24   NA                                        \n",
       "25   NA                                        \n",
       "26   NA                                        \n",
       "27   NA                                        \n",
       "28   NA                                        \n",
       "29   NA                                        \n",
       "30   NA                                        \n",
       "⋮    ⋮                                         \n",
       "5617 NA                                        \n",
       "5618 NA                                        \n",
       "5619 NA                                        \n",
       "5620 NA                                        \n",
       "5621 NA                                        \n",
       "5622 NA                                        \n",
       "5623 NA                                        \n",
       "5624 NA                                        \n",
       "5625 NA                                        \n",
       "5626 NA                                        \n",
       "5627 NA                                        \n",
       "5628 NA                                        \n",
       "5629 NA                                        \n",
       "5630 NA                                        \n",
       "5631 NA                                        \n",
       "5632 NA                                        \n",
       "5633 NA                                        \n",
       "5634 NA                                        \n",
       "5635 NA                                        \n",
       "5636 NA                                        \n",
       "5637 NA                                        \n",
       "5638 NA                                        \n",
       "5639 NA                                        \n",
       "5640 NA                                        \n",
       "5641 NA                                        \n",
       "5642 NA                                        \n",
       "5643 NA                                        \n",
       "5644 NA                                        \n",
       "5645 NA                                        \n",
       "5646 NA                                        "
      ]
     },
     "metadata": {},
     "output_type": "display_data"
    }
   ],
   "source": [
    "data"
   ]
  },
  {
   "cell_type": "markdown",
   "metadata": {},
   "source": [
    "On a donc 5646 lignes, correspondant chacune à une commune. Ça fait beaucoup, mais on se rend vite compte que la majorité d'entre elles n'a pas de donnée pour la colonne `Séjours.PMSI.MCO.au.lieu.de.résidence.2018`, soit parce que les chiffres ne sont pas disponibles (secret statistique, faille dans le recueil), soit parce que l'hôpital de Bicêtre ne traite aucun habitant de ces communes. Comment faire pour retirer tout ce bruit et ne se focaliser que sur les parties du Data Frame qui nous intéressent ?\n",
    "\n",
    "## **3. Accéder aux éléments d'un Data Frame**\n",
    "\n",
    "On a vu précédemment qu'on utilisait les crochets `[]` pour accéder aux éléments d'un vecteur. Par exemple `x[4]` permet d'accéder au 4e élément du vecteur `x`. Pour un Data Frame, on peut également utiliser les crochets, mais cette fois-ci avec une virgule pour séparer les deux dimensions : `[,]`. Voyons ça tout de suite avec l'exemple ci-dessous :"
   ]
  },
  {
   "cell_type": "code",
   "execution_count": 23,
   "metadata": {},
   "outputs": [
    {
     "data": {
      "text/html": [
       "<table>\n",
       "<caption>A data.frame: 6 × 3</caption>\n",
       "<thead>\n",
       "\t<tr><th scope=col>Code</th><th scope=col>Libellé</th><th scope=col>Séjours.PMSI.MCO.au.lieu.de.résidence.2018</th></tr>\n",
       "\t<tr><th scope=col>&lt;chr&gt;</th><th scope=col>&lt;chr&gt;</th><th scope=col>&lt;int&gt;</th></tr>\n",
       "</thead>\n",
       "<tbody>\n",
       "\t<tr><td>01000</td><td>BOURG-EN-BRESSE            </td><td>NA</td></tr>\n",
       "\t<tr><td>01090</td><td>MONTMERLE-SUR-SAÔNE        </td><td>NA</td></tr>\n",
       "\t<tr><td>01100</td><td>OYONNAX                    </td><td>NA</td></tr>\n",
       "\t<tr><td>01110</td><td>PLATEAU D'HAUTEVILLE       </td><td>NA</td></tr>\n",
       "\t<tr><td>01120</td><td>MONTLUEL                   </td><td>NA</td></tr>\n",
       "\t<tr><td>01140</td><td>SAINT-DIDIER-SUR-CHALARONNE</td><td>NA</td></tr>\n",
       "</tbody>\n",
       "</table>\n"
      ],
      "text/latex": [
       "A data.frame: 6 × 3\n",
       "\\begin{tabular}{r|lll}\n",
       " Code & Libellé & Séjours.PMSI.MCO.au.lieu.de.résidence.2018\\\\\n",
       " <chr> & <chr> & <int>\\\\\n",
       "\\hline\n",
       "\t 01000 & BOURG-EN-BRESSE             & NA\\\\\n",
       "\t 01090 & MONTMERLE-SUR-SAÔNE         & NA\\\\\n",
       "\t 01100 & OYONNAX                     & NA\\\\\n",
       "\t 01110 & PLATEAU D'HAUTEVILLE        & NA\\\\\n",
       "\t 01120 & MONTLUEL                    & NA\\\\\n",
       "\t 01140 & SAINT-DIDIER-SUR-CHALARONNE & NA\\\\\n",
       "\\end{tabular}\n"
      ],
      "text/markdown": [
       "\n",
       "A data.frame: 6 × 3\n",
       "\n",
       "| Code &lt;chr&gt; | Libellé &lt;chr&gt; | Séjours.PMSI.MCO.au.lieu.de.résidence.2018 &lt;int&gt; |\n",
       "|---|---|---|\n",
       "| 01000 | BOURG-EN-BRESSE             | NA |\n",
       "| 01090 | MONTMERLE-SUR-SAÔNE         | NA |\n",
       "| 01100 | OYONNAX                     | NA |\n",
       "| 01110 | PLATEAU D'HAUTEVILLE        | NA |\n",
       "| 01120 | MONTLUEL                    | NA |\n",
       "| 01140 | SAINT-DIDIER-SUR-CHALARONNE | NA |\n",
       "\n"
      ],
      "text/plain": [
       "  Code  Libellé                     Séjours.PMSI.MCO.au.lieu.de.résidence.2018\n",
       "1 01000 BOURG-EN-BRESSE             NA                                        \n",
       "2 01090 MONTMERLE-SUR-SAÔNE         NA                                        \n",
       "3 01100 OYONNAX                     NA                                        \n",
       "4 01110 PLATEAU D'HAUTEVILLE        NA                                        \n",
       "5 01120 MONTLUEL                    NA                                        \n",
       "6 01140 SAINT-DIDIER-SUR-CHALARONNE NA                                        "
      ]
     },
     "metadata": {},
     "output_type": "display_data"
    }
   ],
   "source": [
    "# Pour plus de clarté, nous n'allons travailler ici qu'avec la \"tête\" du tableau\n",
    "small_data <- head(data)\n",
    "small_data"
   ]
  },
  {
   "cell_type": "markdown",
   "metadata": {},
   "source": [
    "### **3.1 Indices**\n",
    "\n",
    "* Si je veux afficher le contenu de la case qui se trouve sur la 3e ligne et la 2e colonne, je vais donc écrire `data[3, 2]`."
   ]
  },
  {
   "cell_type": "code",
   "execution_count": 24,
   "metadata": {},
   "outputs": [
    {
     "name": "stdout",
     "output_type": "stream",
     "text": [
      "[1] \"OYONNAX\"\n"
     ]
    }
   ],
   "source": [
    "# 3e ligne et 2e colonne\n",
    "print(small_data[3, 2])"
   ]
  },
  {
   "cell_type": "markdown",
   "metadata": {},
   "source": [
    "* Si je veux afficher la 3e ligne en entier, je peux laisser la deuxième dimension vide :"
   ]
  },
  {
   "cell_type": "code",
   "execution_count": 25,
   "metadata": {},
   "outputs": [
    {
     "name": "stdout",
     "output_type": "stream",
     "text": [
      "   Code Libellé Séjours.PMSI.MCO.au.lieu.de.résidence.2018\n",
      "3 01100 OYONNAX                                         NA\n"
     ]
    }
   ],
   "source": [
    "# 3e ligne\n",
    "print(small_data[3, ])"
   ]
  },
  {
   "cell_type": "markdown",
   "metadata": {},
   "source": [
    "* Même chose pour la colonne :"
   ]
  },
  {
   "cell_type": "code",
   "execution_count": 26,
   "metadata": {},
   "outputs": [
    {
     "name": "stdout",
     "output_type": "stream",
     "text": [
      "[1] \"BOURG-EN-BRESSE\"             \"MONTMERLE-SUR-SAÔNE\"        \n",
      "[3] \"OYONNAX\"                     \"PLATEAU D'HAUTEVILLE\"       \n",
      "[5] \"MONTLUEL\"                    \"SAINT-DIDIER-SUR-CHALARONNE\"\n"
     ]
    }
   ],
   "source": [
    "# 2e colonne\n",
    "print(small_data[, 2])"
   ]
  },
  {
   "cell_type": "markdown",
   "metadata": {},
   "source": [
    "* Il est possible de sélectionner par le nom de colonne :"
   ]
  },
  {
   "cell_type": "code",
   "execution_count": 40,
   "metadata": {},
   "outputs": [
    {
     "name": "stdout",
     "output_type": "stream",
     "text": [
      "[1] \"BOURG-EN-BRESSE\"             \"MONTMERLE-SUR-SAÔNE\"        \n",
      "[3] \"OYONNAX\"                     \"PLATEAU D'HAUTEVILLE\"       \n",
      "[5] \"MONTLUEL\"                    \"SAINT-DIDIER-SUR-CHALARONNE\"\n"
     ]
    }
   ],
   "source": [
    "# colonne \"Libellé\"\n",
    "print(small_data[, \"Libellé\"])"
   ]
  },
  {
   "cell_type": "markdown",
   "metadata": {},
   "source": [
    "* Je peux également sélectionner plusieurs indice à l'aide de **vecteurs** :"
   ]
  },
  {
   "cell_type": "code",
   "execution_count": 31,
   "metadata": {},
   "outputs": [
    {
     "name": "stdout",
     "output_type": "stream",
     "text": [
      "   Code              Libellé\n",
      "1 01000      BOURG-EN-BRESSE\n",
      "3 01100              OYONNAX\n",
      "4 01110 PLATEAU D'HAUTEVILLE\n"
     ]
    }
   ],
   "source": [
    "# lignes 1, 3, 4 et colonnes 1, 2\n",
    "print(small_data[c(1, 3, 4), c(1, 2)])"
   ]
  },
  {
   "cell_type": "markdown",
   "metadata": {},
   "source": [
    "* Dont la notation `c(x:y)`, qui permet de créer un vecteur avec des chiffres allant de `x` jusqu'à `y` compris :"
   ]
  },
  {
   "cell_type": "code",
   "execution_count": 34,
   "metadata": {},
   "outputs": [
    {
     "name": "stdout",
     "output_type": "stream",
     "text": [
      "   Code              Libellé Séjours.PMSI.MCO.au.lieu.de.résidence.2018\n",
      "2 01090  MONTMERLE-SUR-SAÔNE                                         NA\n",
      "3 01100              OYONNAX                                         NA\n",
      "4 01110 PLATEAU D'HAUTEVILLE                                         NA\n",
      "5 01120             MONTLUEL                                         NA\n"
     ]
    }
   ],
   "source": [
    "# lignes 2, 3, 4, 5\n",
    "print(small_data[c(2:5), ])"
   ]
  },
  {
   "cell_type": "markdown",
   "metadata": {},
   "source": [
    "### **3.2 Booléens**\n",
    "\n",
    "Comme pour les vecteurs, on peut aussi accéder aux valeurs d'un Data Frame par des vecteurs de booléens :"
   ]
  },
  {
   "cell_type": "code",
   "execution_count": 39,
   "metadata": {},
   "outputs": [
    {
     "name": "stdout",
     "output_type": "stream",
     "text": [
      "   Code                     Libellé\n",
      "1 01000             BOURG-EN-BRESSE\n",
      "2 01090         MONTMERLE-SUR-SAÔNE\n",
      "3 01100                     OYONNAX\n",
      "4 01110        PLATEAU D'HAUTEVILLE\n",
      "5 01120                    MONTLUEL\n",
      "6 01140 SAINT-DIDIER-SUR-CHALARONNE\n"
     ]
    }
   ],
   "source": [
    "print(small_data[, c(TRUE, TRUE, FALSE)])"
   ]
  },
  {
   "cell_type": "markdown",
   "metadata": {},
   "source": [
    "Cette méthode de sélection peut paraître un peu rébarbative comme ça, mais elle est en réalité très utile pour appliquer des **filtres conditionnels** à nos Data Frames. Admettons que l'on veuille sélectionner la ligne dont le `Libellé` est `\"OYONNAX\"`. La première étape est de créer un vecteur de booléens de même longueur que le nombre de lignes de notre Data Frame, avec des `TRUE` quand la condition est remplie :"
   ]
  },
  {
   "cell_type": "code",
   "execution_count": 41,
   "metadata": {},
   "outputs": [
    {
     "name": "stdout",
     "output_type": "stream",
     "text": [
      "[1] FALSE FALSE  TRUE FALSE FALSE FALSE\n"
     ]
    }
   ],
   "source": [
    "filtre_lignes <- (small_data[, \"Libellé\"] == \"OYONNAX\")\n",
    "print(filtre_lignes)"
   ]
  },
  {
   "cell_type": "markdown",
   "metadata": {},
   "source": [
    "Avec cette commande, R a effectué les étapes suivantes :\n",
    "\n",
    "* Comparaison de tous les éléments de la colonne `Libellé` (qui est un vecteur) à la chaîne de caractères `\"OYONNAX\"`\n",
    "* Création d'un vecteur de même longueur, avec `TRUE` si la valeur correspond, `FALSE` sinon\n",
    "* Stockage dans la variable `filtre_lignes`\n",
    "\n",
    "*PS : les parenthèses autour de `(small_data[, \"Libellé\"] == \"OYONNAX\")` sont optionnelles, et servent ici à délimiter les conditions pour plus de clarté; elles prendront tout leur sens lorsque nous verrons les conditions composées.*\n",
    "\n",
    "Il ne nous reste plus qu'à appliquer le filtre que nous avons créé :"
   ]
  },
  {
   "cell_type": "code",
   "execution_count": 81,
   "metadata": {},
   "outputs": [
    {
     "data": {
      "text/html": [
       "<table>\n",
       "<caption>A data.frame: 1 × 3</caption>\n",
       "<thead>\n",
       "\t<tr><th></th><th scope=col>Code</th><th scope=col>Libellé</th><th scope=col>Séjours.PMSI.MCO.au.lieu.de.résidence.2018</th></tr>\n",
       "\t<tr><th></th><th scope=col>&lt;chr&gt;</th><th scope=col>&lt;chr&gt;</th><th scope=col>&lt;int&gt;</th></tr>\n",
       "</thead>\n",
       "<tbody>\n",
       "\t<tr><th scope=row>3</th><td>01100</td><td>OYONNAX</td><td>NA</td></tr>\n",
       "</tbody>\n",
       "</table>\n"
      ],
      "text/latex": [
       "A data.frame: 1 × 3\n",
       "\\begin{tabular}{r|lll}\n",
       "  & Code & Libellé & Séjours.PMSI.MCO.au.lieu.de.résidence.2018\\\\\n",
       "  & <chr> & <chr> & <int>\\\\\n",
       "\\hline\n",
       "\t3 & 01100 & OYONNAX & NA\\\\\n",
       "\\end{tabular}\n"
      ],
      "text/markdown": [
       "\n",
       "A data.frame: 1 × 3\n",
       "\n",
       "| <!--/--> | Code &lt;chr&gt; | Libellé &lt;chr&gt; | Séjours.PMSI.MCO.au.lieu.de.résidence.2018 &lt;int&gt; |\n",
       "|---|---|---|---|\n",
       "| 3 | 01100 | OYONNAX | NA |\n",
       "\n"
      ],
      "text/plain": [
       "  Code  Libellé Séjours.PMSI.MCO.au.lieu.de.résidence.2018\n",
       "3 01100 OYONNAX NA                                        "
      ]
     },
     "metadata": {},
     "output_type": "display_data"
    }
   ],
   "source": [
    "small_data[filtre_lignes, ]"
   ]
  },
  {
   "cell_type": "markdown",
   "metadata": {},
   "source": [
    "**Exercice** Dans la cellule ci-après, à partir des données complètes (`data` et non plus `small_data`) :\n",
    "\n",
    "* Sélectionnez les lignes ne contenant pas de données manquantes. Pour cela, vous aurez besoin de la fonction `complete.cases()`, qui prend en argument un Data Frame et qui retourne un vecteur de booléens avec des `TRUE` quand la ligne est complète et `FALSE` sinon.\n",
    "* N'affichez que la \"tête\" du Data Frame (les 6 premières lignes)"
   ]
  },
  {
   "cell_type": "code",
   "execution_count": null,
   "metadata": {},
   "outputs": [],
   "source": []
  },
  {
   "cell_type": "code",
   "execution_count": 99,
   "metadata": {},
   "outputs": [],
   "source": [
    "# Pour la solution, décommentez la ligne suivante (retirez le \"#\") :\n",
    "# source(\"solutions/04_data-frames_donnees-manquantes.R\", echo=TRUE)"
   ]
  },
  {
   "cell_type": "markdown",
   "metadata": {},
   "source": [
    "Et voilà, maintenant vous possédez les bases requises pour faire des requêtes simples sur les données. On peut combiner plusieurs **opérateurs logiques** pour faire des filtres conditionnels de plus en plus complexes. Quelques exemples ci-dessous :"
   ]
  },
  {
   "cell_type": "code",
   "execution_count": 77,
   "metadata": {},
   "outputs": [
    {
     "data": {
      "text/html": [
       "<table>\n",
       "<caption>A data.frame: 31 × 3</caption>\n",
       "<thead>\n",
       "\t<tr><th></th><th scope=col>Code</th><th scope=col>Libellé</th><th scope=col>Séjours.PMSI.MCO.au.lieu.de.résidence.2018</th></tr>\n",
       "\t<tr><th></th><th scope=col>&lt;chr&gt;</th><th scope=col>&lt;chr&gt;</th><th scope=col>&lt;int&gt;</th></tr>\n",
       "</thead>\n",
       "<tbody>\n",
       "\t<tr><th scope=row>60</th><td>02100</td><td>SAINT-QUENTIN             </td><td> 12</td></tr>\n",
       "\t<tr><th scope=row>652</th><td>14170</td><td>SAINT-PIERRE-EN-AUGE      </td><td> 13</td></tr>\n",
       "\t<tr><th scope=row>1289</th><td>27180</td><td>SAINT-SÉBASTIEN-DE-MORSENT</td><td> 23</td></tr>\n",
       "\t<tr><th scope=row>1292</th><td>27220</td><td>SAINT-ANDRÉ-DE-L'EURE     </td><td> 15</td></tr>\n",
       "\t<tr><th scope=row>1381</th><td>28480</td><td>SAINTIGNY                 </td><td> 12</td></tr>\n",
       "\t<tr><th scope=row>2387</th><td>45140</td><td>SAINT-JEAN-DE-LA-RUELLE   </td><td> 12</td></tr>\n",
       "\t<tr><th scope=row>3420</th><td>60850</td><td>SAINT-GERMER-DE-FLY       </td><td> 11</td></tr>\n",
       "\t<tr><th scope=row>4506</th><td>77310</td><td>SAINT-FARGEAU-PONTHIERRY  </td><td> 85</td></tr>\n",
       "\t<tr><th scope=row>4538</th><td>77650</td><td>SAINTE-COLOMBE            </td><td> 12</td></tr>\n",
       "\t<tr><th scope=row>4540</th><td>77670</td><td>SAINT-MAMMÈS              </td><td> 22</td></tr>\n",
       "\t<tr><th scope=row>4589</th><td>78210</td><td>SAINT-CYR-L'ÉCOLE         </td><td> 17</td></tr>\n",
       "\t<tr><th scope=row>4615</th><td>78470</td><td>SAINT-RÉMY-LÈS-CHEVREUSE  </td><td> 24</td></tr>\n",
       "\t<tr><th scope=row>4641</th><td>78730</td><td>SAINT-ARNOULT-EN-YVELINES </td><td> 12</td></tr>\n",
       "\t<tr><th scope=row>4667</th><td>78C03</td><td>SAINT-GERMAIN-EN-LAYE     </td><td> 34</td></tr>\n",
       "\t<tr><th scope=row>5213</th><td>89330</td><td>SAINT-JULIEN-DU-SAULT     </td><td> 12</td></tr>\n",
       "\t<tr><th scope=row>5273</th><td>91180</td><td>SAINT-GERMAIN-LÈS-ARPAJON </td><td> 44</td></tr>\n",
       "\t<tr><th scope=row>5279</th><td>91240</td><td>SAINT-MICHEL-SUR-ORGE     </td><td>112</td></tr>\n",
       "\t<tr><th scope=row>5280</th><td>91250</td><td>SAINT-GERMAIN-LÈS-CORBEIL </td><td> 80</td></tr>\n",
       "\t<tr><th scope=row>5283</th><td>91280</td><td>SAINT-PIERRE-DU-PERRAY    </td><td> 39</td></tr>\n",
       "\t<tr><th scope=row>5307</th><td>91530</td><td>SAINT-CHÉRON              </td><td> 27</td></tr>\n",
       "\t<tr><th scope=row>5324</th><td>91700</td><td>SAINTE-GENEVIÈVE-DES-BOIS </td><td>253</td></tr>\n",
       "\t<tr><th scope=row>5354</th><td>92210</td><td>SAINT-CLOUD               </td><td> 29</td></tr>\n",
       "\t<tr><th scope=row>5389</th><td>93200</td><td>SAINT-DENIS               </td><td>131</td></tr>\n",
       "\t<tr><th scope=row>5407</th><td>93400</td><td>SAINT-OUEN-SUR-SEINE      </td><td> 53</td></tr>\n",
       "\t<tr><th scope=row>5420</th><td>94100</td><td>SAINT-MAUR-DES-FOSSÉS     </td><td>178</td></tr>\n",
       "\t<tr><th scope=row>5426</th><td>94160</td><td>SAINT-MANDÉ               </td><td> 33</td></tr>\n",
       "\t<tr><th scope=row>5446</th><td>94410</td><td>SAINT-MAURICE             </td><td> 49</td></tr>\n",
       "\t<tr><th scope=row>5474</th><td>95210</td><td>SAINT-GRATIEN             </td><td> 24</td></tr>\n",
       "\t<tr><th scope=row>5482</th><td>95310</td><td>SAINT-OUEN-L'AUMÔNE       </td><td> 20</td></tr>\n",
       "\t<tr><th scope=row>5486</th><td>95350</td><td>SAINT-BRICE-SOUS-FORÊT    </td><td> 14</td></tr>\n",
       "\t<tr><th scope=row>5613</th><td>9D000</td><td>SAINT-DENIS               </td><td> 12</td></tr>\n",
       "</tbody>\n",
       "</table>\n"
      ],
      "text/latex": [
       "A data.frame: 31 × 3\n",
       "\\begin{tabular}{r|lll}\n",
       "  & Code & Libellé & Séjours.PMSI.MCO.au.lieu.de.résidence.2018\\\\\n",
       "  & <chr> & <chr> & <int>\\\\\n",
       "\\hline\n",
       "\t60 & 02100 & SAINT-QUENTIN              &  12\\\\\n",
       "\t652 & 14170 & SAINT-PIERRE-EN-AUGE       &  13\\\\\n",
       "\t1289 & 27180 & SAINT-SÉBASTIEN-DE-MORSENT &  23\\\\\n",
       "\t1292 & 27220 & SAINT-ANDRÉ-DE-L'EURE      &  15\\\\\n",
       "\t1381 & 28480 & SAINTIGNY                  &  12\\\\\n",
       "\t2387 & 45140 & SAINT-JEAN-DE-LA-RUELLE    &  12\\\\\n",
       "\t3420 & 60850 & SAINT-GERMER-DE-FLY        &  11\\\\\n",
       "\t4506 & 77310 & SAINT-FARGEAU-PONTHIERRY   &  85\\\\\n",
       "\t4538 & 77650 & SAINTE-COLOMBE             &  12\\\\\n",
       "\t4540 & 77670 & SAINT-MAMMÈS               &  22\\\\\n",
       "\t4589 & 78210 & SAINT-CYR-L'ÉCOLE          &  17\\\\\n",
       "\t4615 & 78470 & SAINT-RÉMY-LÈS-CHEVREUSE   &  24\\\\\n",
       "\t4641 & 78730 & SAINT-ARNOULT-EN-YVELINES  &  12\\\\\n",
       "\t4667 & 78C03 & SAINT-GERMAIN-EN-LAYE      &  34\\\\\n",
       "\t5213 & 89330 & SAINT-JULIEN-DU-SAULT      &  12\\\\\n",
       "\t5273 & 91180 & SAINT-GERMAIN-LÈS-ARPAJON  &  44\\\\\n",
       "\t5279 & 91240 & SAINT-MICHEL-SUR-ORGE      & 112\\\\\n",
       "\t5280 & 91250 & SAINT-GERMAIN-LÈS-CORBEIL  &  80\\\\\n",
       "\t5283 & 91280 & SAINT-PIERRE-DU-PERRAY     &  39\\\\\n",
       "\t5307 & 91530 & SAINT-CHÉRON               &  27\\\\\n",
       "\t5324 & 91700 & SAINTE-GENEVIÈVE-DES-BOIS  & 253\\\\\n",
       "\t5354 & 92210 & SAINT-CLOUD                &  29\\\\\n",
       "\t5389 & 93200 & SAINT-DENIS                & 131\\\\\n",
       "\t5407 & 93400 & SAINT-OUEN-SUR-SEINE       &  53\\\\\n",
       "\t5420 & 94100 & SAINT-MAUR-DES-FOSSÉS      & 178\\\\\n",
       "\t5426 & 94160 & SAINT-MANDÉ                &  33\\\\\n",
       "\t5446 & 94410 & SAINT-MAURICE              &  49\\\\\n",
       "\t5474 & 95210 & SAINT-GRATIEN              &  24\\\\\n",
       "\t5482 & 95310 & SAINT-OUEN-L'AUMÔNE        &  20\\\\\n",
       "\t5486 & 95350 & SAINT-BRICE-SOUS-FORÊT     &  14\\\\\n",
       "\t5613 & 9D000 & SAINT-DENIS                &  12\\\\\n",
       "\\end{tabular}\n"
      ],
      "text/markdown": [
       "\n",
       "A data.frame: 31 × 3\n",
       "\n",
       "| <!--/--> | Code &lt;chr&gt; | Libellé &lt;chr&gt; | Séjours.PMSI.MCO.au.lieu.de.résidence.2018 &lt;int&gt; |\n",
       "|---|---|---|---|\n",
       "| 60 | 02100 | SAINT-QUENTIN              |  12 |\n",
       "| 652 | 14170 | SAINT-PIERRE-EN-AUGE       |  13 |\n",
       "| 1289 | 27180 | SAINT-SÉBASTIEN-DE-MORSENT |  23 |\n",
       "| 1292 | 27220 | SAINT-ANDRÉ-DE-L'EURE      |  15 |\n",
       "| 1381 | 28480 | SAINTIGNY                  |  12 |\n",
       "| 2387 | 45140 | SAINT-JEAN-DE-LA-RUELLE    |  12 |\n",
       "| 3420 | 60850 | SAINT-GERMER-DE-FLY        |  11 |\n",
       "| 4506 | 77310 | SAINT-FARGEAU-PONTHIERRY   |  85 |\n",
       "| 4538 | 77650 | SAINTE-COLOMBE             |  12 |\n",
       "| 4540 | 77670 | SAINT-MAMMÈS               |  22 |\n",
       "| 4589 | 78210 | SAINT-CYR-L'ÉCOLE          |  17 |\n",
       "| 4615 | 78470 | SAINT-RÉMY-LÈS-CHEVREUSE   |  24 |\n",
       "| 4641 | 78730 | SAINT-ARNOULT-EN-YVELINES  |  12 |\n",
       "| 4667 | 78C03 | SAINT-GERMAIN-EN-LAYE      |  34 |\n",
       "| 5213 | 89330 | SAINT-JULIEN-DU-SAULT      |  12 |\n",
       "| 5273 | 91180 | SAINT-GERMAIN-LÈS-ARPAJON  |  44 |\n",
       "| 5279 | 91240 | SAINT-MICHEL-SUR-ORGE      | 112 |\n",
       "| 5280 | 91250 | SAINT-GERMAIN-LÈS-CORBEIL  |  80 |\n",
       "| 5283 | 91280 | SAINT-PIERRE-DU-PERRAY     |  39 |\n",
       "| 5307 | 91530 | SAINT-CHÉRON               |  27 |\n",
       "| 5324 | 91700 | SAINTE-GENEVIÈVE-DES-BOIS  | 253 |\n",
       "| 5354 | 92210 | SAINT-CLOUD                |  29 |\n",
       "| 5389 | 93200 | SAINT-DENIS                | 131 |\n",
       "| 5407 | 93400 | SAINT-OUEN-SUR-SEINE       |  53 |\n",
       "| 5420 | 94100 | SAINT-MAUR-DES-FOSSÉS      | 178 |\n",
       "| 5426 | 94160 | SAINT-MANDÉ                |  33 |\n",
       "| 5446 | 94410 | SAINT-MAURICE              |  49 |\n",
       "| 5474 | 95210 | SAINT-GRATIEN              |  24 |\n",
       "| 5482 | 95310 | SAINT-OUEN-L'AUMÔNE        |  20 |\n",
       "| 5486 | 95350 | SAINT-BRICE-SOUS-FORÊT     |  14 |\n",
       "| 5613 | 9D000 | SAINT-DENIS                |  12 |\n",
       "\n"
      ],
      "text/plain": [
       "     Code  Libellé                   \n",
       "60   02100 SAINT-QUENTIN             \n",
       "652  14170 SAINT-PIERRE-EN-AUGE      \n",
       "1289 27180 SAINT-SÉBASTIEN-DE-MORSENT\n",
       "1292 27220 SAINT-ANDRÉ-DE-L'EURE     \n",
       "1381 28480 SAINTIGNY                 \n",
       "2387 45140 SAINT-JEAN-DE-LA-RUELLE   \n",
       "3420 60850 SAINT-GERMER-DE-FLY       \n",
       "4506 77310 SAINT-FARGEAU-PONTHIERRY  \n",
       "4538 77650 SAINTE-COLOMBE            \n",
       "4540 77670 SAINT-MAMMÈS              \n",
       "4589 78210 SAINT-CYR-L'ÉCOLE         \n",
       "4615 78470 SAINT-RÉMY-LÈS-CHEVREUSE  \n",
       "4641 78730 SAINT-ARNOULT-EN-YVELINES \n",
       "4667 78C03 SAINT-GERMAIN-EN-LAYE     \n",
       "5213 89330 SAINT-JULIEN-DU-SAULT     \n",
       "5273 91180 SAINT-GERMAIN-LÈS-ARPAJON \n",
       "5279 91240 SAINT-MICHEL-SUR-ORGE     \n",
       "5280 91250 SAINT-GERMAIN-LÈS-CORBEIL \n",
       "5283 91280 SAINT-PIERRE-DU-PERRAY    \n",
       "5307 91530 SAINT-CHÉRON              \n",
       "5324 91700 SAINTE-GENEVIÈVE-DES-BOIS \n",
       "5354 92210 SAINT-CLOUD               \n",
       "5389 93200 SAINT-DENIS               \n",
       "5407 93400 SAINT-OUEN-SUR-SEINE      \n",
       "5420 94100 SAINT-MAUR-DES-FOSSÉS     \n",
       "5426 94160 SAINT-MANDÉ               \n",
       "5446 94410 SAINT-MAURICE             \n",
       "5474 95210 SAINT-GRATIEN             \n",
       "5482 95310 SAINT-OUEN-L'AUMÔNE       \n",
       "5486 95350 SAINT-BRICE-SOUS-FORÊT    \n",
       "5613 9D000 SAINT-DENIS               \n",
       "     Séjours.PMSI.MCO.au.lieu.de.résidence.2018\n",
       "60    12                                       \n",
       "652   13                                       \n",
       "1289  23                                       \n",
       "1292  15                                       \n",
       "1381  12                                       \n",
       "2387  12                                       \n",
       "3420  11                                       \n",
       "4506  85                                       \n",
       "4538  12                                       \n",
       "4540  22                                       \n",
       "4589  17                                       \n",
       "4615  24                                       \n",
       "4641  12                                       \n",
       "4667  34                                       \n",
       "5213  12                                       \n",
       "5273  44                                       \n",
       "5279 112                                       \n",
       "5280  80                                       \n",
       "5283  39                                       \n",
       "5307  27                                       \n",
       "5324 253                                       \n",
       "5354  29                                       \n",
       "5389 131                                       \n",
       "5407  53                                       \n",
       "5420 178                                       \n",
       "5426  33                                       \n",
       "5446  49                                       \n",
       "5474  24                                       \n",
       "5482  20                                       \n",
       "5486  14                                       \n",
       "5613  12                                       "
      ]
     },
     "metadata": {},
     "output_type": "display_data"
    }
   ],
   "source": [
    "# Ici j'utilise la fonction substr() qui dans mon cas me renvoie une châine de caractères\n",
    "# correspondant aux lettres situées entre la 1ère et la 5e pour chaque élément de la\n",
    "# colonne Libellé.\n",
    "\n",
    "condition_1 <- complete.cases(data)\n",
    "condition_2 <- (substr(data[, \"Libellé\"], 1, 5) == \"SAINT\")\n",
    "\n",
    "data[condition_1 & condition_2, ]"
   ]
  },
  {
   "cell_type": "code",
   "execution_count": 66,
   "metadata": {},
   "outputs": [
    {
     "data": {
      "text/html": [
       "<table>\n",
       "<caption>A data.frame: 77 × 3</caption>\n",
       "<thead>\n",
       "\t<tr><th></th><th scope=col>Code</th><th scope=col>Libellé</th><th scope=col>Séjours.PMSI.MCO.au.lieu.de.résidence.2018</th></tr>\n",
       "\t<tr><th></th><th scope=col>&lt;chr&gt;</th><th scope=col>&lt;chr&gt;</th><th scope=col>&lt;int&gt;</th></tr>\n",
       "</thead>\n",
       "<tbody>\n",
       "\t<tr><th scope=row>5343</th><td>92000</td><td>NANTERRE             </td><td>117</td></tr>\n",
       "\t<tr><th scope=row>5344</th><td>92100</td><td>BOULOGNE-BILLANCOURT </td><td>167</td></tr>\n",
       "\t<tr><th scope=row>5345</th><td>92110</td><td>CLICHY               </td><td> 41</td></tr>\n",
       "\t<tr><th scope=row>5346</th><td>92120</td><td>MONTROUGE            </td><td>242</td></tr>\n",
       "\t<tr><th scope=row>5347</th><td>92130</td><td>ISSY-LES-MOULINEAUX  </td><td>121</td></tr>\n",
       "\t<tr><th scope=row>5348</th><td>92140</td><td>CLAMART              </td><td>317</td></tr>\n",
       "\t<tr><th scope=row>5349</th><td>92150</td><td>SURESNES             </td><td> 49</td></tr>\n",
       "\t<tr><th scope=row>5350</th><td>92160</td><td>ANTONY               </td><td>456</td></tr>\n",
       "\t<tr><th scope=row>5351</th><td>92170</td><td>VANVES               </td><td> 75</td></tr>\n",
       "\t<tr><th scope=row>5352</th><td>92190</td><td>MEUDON               </td><td>201</td></tr>\n",
       "\t<tr><th scope=row>5353</th><td>92200</td><td>NEUILLY-SUR-SEINE    </td><td> 58</td></tr>\n",
       "\t<tr><th scope=row>5354</th><td>92210</td><td>SAINT-CLOUD          </td><td> 29</td></tr>\n",
       "\t<tr><th scope=row>5355</th><td>92220</td><td>BAGNEUX              </td><td>748</td></tr>\n",
       "\t<tr><th scope=row>5356</th><td>92230</td><td>GENNEVILLIERS        </td><td> 64</td></tr>\n",
       "\t<tr><th scope=row>5357</th><td>92240</td><td>MALAKOFF             </td><td>132</td></tr>\n",
       "\t<tr><th scope=row>5358</th><td>92250</td><td>LA GARENNE-COLOMBES  </td><td> 31</td></tr>\n",
       "\t<tr><th scope=row>5359</th><td>92260</td><td>FONTENAY-AUX-ROSES   </td><td>201</td></tr>\n",
       "\t<tr><th scope=row>5360</th><td>92270</td><td>BOIS-COLOMBES        </td><td> 21</td></tr>\n",
       "\t<tr><th scope=row>5361</th><td>92290</td><td>CHÂTENAY-MALABRY     </td><td>308</td></tr>\n",
       "\t<tr><th scope=row>5362</th><td>92300</td><td>LEVALLOIS-PERRET     </td><td> 58</td></tr>\n",
       "\t<tr><th scope=row>5363</th><td>92310</td><td>SÈVRES               </td><td> 35</td></tr>\n",
       "\t<tr><th scope=row>5364</th><td>92320</td><td>CHÂTILLON            </td><td>271</td></tr>\n",
       "\t<tr><th scope=row>5365</th><td>92330</td><td>SCEAUX               </td><td>125</td></tr>\n",
       "\t<tr><th scope=row>5366</th><td>92340</td><td>BOURG-LA-REINE       </td><td>200</td></tr>\n",
       "\t<tr><th scope=row>5367</th><td>92350</td><td>LE PLESSIS-ROBINSON  </td><td>173</td></tr>\n",
       "\t<tr><th scope=row>5368</th><td>92370</td><td>CHAVILLE             </td><td> 42</td></tr>\n",
       "\t<tr><th scope=row>5369</th><td>92380</td><td>GARCHES              </td><td> 22</td></tr>\n",
       "\t<tr><th scope=row>5370</th><td>92390</td><td>VILLENEUVE-LA-GARENNE</td><td> 21</td></tr>\n",
       "\t<tr><th scope=row>5371</th><td>92400</td><td>COURBEVOIE           </td><td>106</td></tr>\n",
       "\t<tr><th scope=row>5372</th><td>92410</td><td>VILLE-D'AVRAY        </td><td> 21</td></tr>\n",
       "\t<tr><th scope=row>⋮</th><td>⋮</td><td>⋮</td><td>⋮</td></tr>\n",
       "\t<tr><th scope=row>5431</th><td>94230</td><td>CACHAN                </td><td>1352</td></tr>\n",
       "\t<tr><th scope=row>5432</th><td>94240</td><td>L'HA¾-LES-ROSES       </td><td>1938</td></tr>\n",
       "\t<tr><th scope=row>5433</th><td>94250</td><td>GENTILLY              </td><td>1353</td></tr>\n",
       "\t<tr><th scope=row>5434</th><td>94260</td><td>FRESNES               </td><td>1196</td></tr>\n",
       "\t<tr><th scope=row>5435</th><td>94270</td><td>LE KREMLIN-BICÊTRE    </td><td>2617</td></tr>\n",
       "\t<tr><th scope=row>5436</th><td>94290</td><td>VILLENEUVE-LE-ROI     </td><td> 212</td></tr>\n",
       "\t<tr><th scope=row>5437</th><td>94300</td><td>VINCENNES             </td><td>  82</td></tr>\n",
       "\t<tr><th scope=row>5438</th><td>94310</td><td>ORLY                  </td><td> 605</td></tr>\n",
       "\t<tr><th scope=row>5439</th><td>94320</td><td>THIAIS                </td><td>1293</td></tr>\n",
       "\t<tr><th scope=row>5440</th><td>94340</td><td>JOINVILLE-LE-PONT     </td><td>  46</td></tr>\n",
       "\t<tr><th scope=row>5441</th><td>94350</td><td>VILLIERS-SUR-MARNE    </td><td>  61</td></tr>\n",
       "\t<tr><th scope=row>5442</th><td>94360</td><td>BRY-SUR-MARNE         </td><td>  32</td></tr>\n",
       "\t<tr><th scope=row>5443</th><td>94370</td><td>SUCY-EN-BRIE          </td><td>  71</td></tr>\n",
       "\t<tr><th scope=row>5444</th><td>94380</td><td>BONNEUIL-SUR-MARNE    </td><td>  59</td></tr>\n",
       "\t<tr><th scope=row>5445</th><td>94400</td><td>VITRY-SUR-SEINE       </td><td>5781</td></tr>\n",
       "\t<tr><th scope=row>5446</th><td>94410</td><td>SAINT-MAURICE         </td><td>  49</td></tr>\n",
       "\t<tr><th scope=row>5447</th><td>94420</td><td>LE PLESSIS-TRÉVISE    </td><td>  37</td></tr>\n",
       "\t<tr><th scope=row>5448</th><td>94430</td><td>CHENNEVIÈRES-SUR-MARNE</td><td>  47</td></tr>\n",
       "\t<tr><th scope=row>5449</th><td>94440</td><td>VILLECRESNES          </td><td>  66</td></tr>\n",
       "\t<tr><th scope=row>5450</th><td>94450</td><td>LIMEIL-BRÉVANNES      </td><td>  92</td></tr>\n",
       "\t<tr><th scope=row>5451</th><td>94460</td><td>VALENTON              </td><td>  77</td></tr>\n",
       "\t<tr><th scope=row>5452</th><td>94470</td><td>BOISSY-SAINT-LÉGER    </td><td>  47</td></tr>\n",
       "\t<tr><th scope=row>5453</th><td>94480</td><td>ABLON-SUR-SEINE       </td><td>  40</td></tr>\n",
       "\t<tr><th scope=row>5455</th><td>94500</td><td>CHAMPIGNY-SUR-MARNE   </td><td> 230</td></tr>\n",
       "\t<tr><th scope=row>5456</th><td>94510</td><td>LA QUEUE-EN-BRIE      </td><td>  18</td></tr>\n",
       "\t<tr><th scope=row>5457</th><td>94520</td><td>MANDRES-LES-ROSES     </td><td>  33</td></tr>\n",
       "\t<tr><th scope=row>5458</th><td>94550</td><td>CHEVILLY-LARUE        </td><td>1177</td></tr>\n",
       "\t<tr><th scope=row>5459</th><td>94600</td><td>CHOISY-LE-ROI         </td><td>1009</td></tr>\n",
       "\t<tr><th scope=row>5460</th><td>94700</td><td>MAISONS-ALFORT        </td><td> 158</td></tr>\n",
       "\t<tr><th scope=row>5461</th><td>94800</td><td>VILLEJUIF             </td><td>4596</td></tr>\n",
       "</tbody>\n",
       "</table>\n"
      ],
      "text/latex": [
       "A data.frame: 77 × 3\n",
       "\\begin{tabular}{r|lll}\n",
       "  & Code & Libellé & Séjours.PMSI.MCO.au.lieu.de.résidence.2018\\\\\n",
       "  & <chr> & <chr> & <int>\\\\\n",
       "\\hline\n",
       "\t5343 & 92000 & NANTERRE              & 117\\\\\n",
       "\t5344 & 92100 & BOULOGNE-BILLANCOURT  & 167\\\\\n",
       "\t5345 & 92110 & CLICHY                &  41\\\\\n",
       "\t5346 & 92120 & MONTROUGE             & 242\\\\\n",
       "\t5347 & 92130 & ISSY-LES-MOULINEAUX   & 121\\\\\n",
       "\t5348 & 92140 & CLAMART               & 317\\\\\n",
       "\t5349 & 92150 & SURESNES              &  49\\\\\n",
       "\t5350 & 92160 & ANTONY                & 456\\\\\n",
       "\t5351 & 92170 & VANVES                &  75\\\\\n",
       "\t5352 & 92190 & MEUDON                & 201\\\\\n",
       "\t5353 & 92200 & NEUILLY-SUR-SEINE     &  58\\\\\n",
       "\t5354 & 92210 & SAINT-CLOUD           &  29\\\\\n",
       "\t5355 & 92220 & BAGNEUX               & 748\\\\\n",
       "\t5356 & 92230 & GENNEVILLIERS         &  64\\\\\n",
       "\t5357 & 92240 & MALAKOFF              & 132\\\\\n",
       "\t5358 & 92250 & LA GARENNE-COLOMBES   &  31\\\\\n",
       "\t5359 & 92260 & FONTENAY-AUX-ROSES    & 201\\\\\n",
       "\t5360 & 92270 & BOIS-COLOMBES         &  21\\\\\n",
       "\t5361 & 92290 & CHÂTENAY-MALABRY      & 308\\\\\n",
       "\t5362 & 92300 & LEVALLOIS-PERRET      &  58\\\\\n",
       "\t5363 & 92310 & SÈVRES                &  35\\\\\n",
       "\t5364 & 92320 & CHÂTILLON             & 271\\\\\n",
       "\t5365 & 92330 & SCEAUX                & 125\\\\\n",
       "\t5366 & 92340 & BOURG-LA-REINE        & 200\\\\\n",
       "\t5367 & 92350 & LE PLESSIS-ROBINSON   & 173\\\\\n",
       "\t5368 & 92370 & CHAVILLE              &  42\\\\\n",
       "\t5369 & 92380 & GARCHES               &  22\\\\\n",
       "\t5370 & 92390 & VILLENEUVE-LA-GARENNE &  21\\\\\n",
       "\t5371 & 92400 & COURBEVOIE            & 106\\\\\n",
       "\t5372 & 92410 & VILLE-D'AVRAY         &  21\\\\\n",
       "\t⋮ & ⋮ & ⋮ & ⋮\\\\\n",
       "\t5431 & 94230 & CACHAN                 & 1352\\\\\n",
       "\t5432 & 94240 & L'HA¾-LES-ROSES        & 1938\\\\\n",
       "\t5433 & 94250 & GENTILLY               & 1353\\\\\n",
       "\t5434 & 94260 & FRESNES                & 1196\\\\\n",
       "\t5435 & 94270 & LE KREMLIN-BICÊTRE     & 2617\\\\\n",
       "\t5436 & 94290 & VILLENEUVE-LE-ROI      &  212\\\\\n",
       "\t5437 & 94300 & VINCENNES              &   82\\\\\n",
       "\t5438 & 94310 & ORLY                   &  605\\\\\n",
       "\t5439 & 94320 & THIAIS                 & 1293\\\\\n",
       "\t5440 & 94340 & JOINVILLE-LE-PONT      &   46\\\\\n",
       "\t5441 & 94350 & VILLIERS-SUR-MARNE     &   61\\\\\n",
       "\t5442 & 94360 & BRY-SUR-MARNE          &   32\\\\\n",
       "\t5443 & 94370 & SUCY-EN-BRIE           &   71\\\\\n",
       "\t5444 & 94380 & BONNEUIL-SUR-MARNE     &   59\\\\\n",
       "\t5445 & 94400 & VITRY-SUR-SEINE        & 5781\\\\\n",
       "\t5446 & 94410 & SAINT-MAURICE          &   49\\\\\n",
       "\t5447 & 94420 & LE PLESSIS-TRÉVISE     &   37\\\\\n",
       "\t5448 & 94430 & CHENNEVIÈRES-SUR-MARNE &   47\\\\\n",
       "\t5449 & 94440 & VILLECRESNES           &   66\\\\\n",
       "\t5450 & 94450 & LIMEIL-BRÉVANNES       &   92\\\\\n",
       "\t5451 & 94460 & VALENTON               &   77\\\\\n",
       "\t5452 & 94470 & BOISSY-SAINT-LÉGER     &   47\\\\\n",
       "\t5453 & 94480 & ABLON-SUR-SEINE        &   40\\\\\n",
       "\t5455 & 94500 & CHAMPIGNY-SUR-MARNE    &  230\\\\\n",
       "\t5456 & 94510 & LA QUEUE-EN-BRIE       &   18\\\\\n",
       "\t5457 & 94520 & MANDRES-LES-ROSES      &   33\\\\\n",
       "\t5458 & 94550 & CHEVILLY-LARUE         & 1177\\\\\n",
       "\t5459 & 94600 & CHOISY-LE-ROI          & 1009\\\\\n",
       "\t5460 & 94700 & MAISONS-ALFORT         &  158\\\\\n",
       "\t5461 & 94800 & VILLEJUIF              & 4596\\\\\n",
       "\\end{tabular}\n"
      ],
      "text/markdown": [
       "\n",
       "A data.frame: 77 × 3\n",
       "\n",
       "| <!--/--> | Code &lt;chr&gt; | Libellé &lt;chr&gt; | Séjours.PMSI.MCO.au.lieu.de.résidence.2018 &lt;int&gt; |\n",
       "|---|---|---|---|\n",
       "| 5343 | 92000 | NANTERRE              | 117 |\n",
       "| 5344 | 92100 | BOULOGNE-BILLANCOURT  | 167 |\n",
       "| 5345 | 92110 | CLICHY                |  41 |\n",
       "| 5346 | 92120 | MONTROUGE             | 242 |\n",
       "| 5347 | 92130 | ISSY-LES-MOULINEAUX   | 121 |\n",
       "| 5348 | 92140 | CLAMART               | 317 |\n",
       "| 5349 | 92150 | SURESNES              |  49 |\n",
       "| 5350 | 92160 | ANTONY                | 456 |\n",
       "| 5351 | 92170 | VANVES                |  75 |\n",
       "| 5352 | 92190 | MEUDON                | 201 |\n",
       "| 5353 | 92200 | NEUILLY-SUR-SEINE     |  58 |\n",
       "| 5354 | 92210 | SAINT-CLOUD           |  29 |\n",
       "| 5355 | 92220 | BAGNEUX               | 748 |\n",
       "| 5356 | 92230 | GENNEVILLIERS         |  64 |\n",
       "| 5357 | 92240 | MALAKOFF              | 132 |\n",
       "| 5358 | 92250 | LA GARENNE-COLOMBES   |  31 |\n",
       "| 5359 | 92260 | FONTENAY-AUX-ROSES    | 201 |\n",
       "| 5360 | 92270 | BOIS-COLOMBES         |  21 |\n",
       "| 5361 | 92290 | CHÂTENAY-MALABRY      | 308 |\n",
       "| 5362 | 92300 | LEVALLOIS-PERRET      |  58 |\n",
       "| 5363 | 92310 | SÈVRES                |  35 |\n",
       "| 5364 | 92320 | CHÂTILLON             | 271 |\n",
       "| 5365 | 92330 | SCEAUX                | 125 |\n",
       "| 5366 | 92340 | BOURG-LA-REINE        | 200 |\n",
       "| 5367 | 92350 | LE PLESSIS-ROBINSON   | 173 |\n",
       "| 5368 | 92370 | CHAVILLE              |  42 |\n",
       "| 5369 | 92380 | GARCHES               |  22 |\n",
       "| 5370 | 92390 | VILLENEUVE-LA-GARENNE |  21 |\n",
       "| 5371 | 92400 | COURBEVOIE            | 106 |\n",
       "| 5372 | 92410 | VILLE-D'AVRAY         |  21 |\n",
       "| ⋮ | ⋮ | ⋮ | ⋮ |\n",
       "| 5431 | 94230 | CACHAN                 | 1352 |\n",
       "| 5432 | 94240 | L'HA¾-LES-ROSES        | 1938 |\n",
       "| 5433 | 94250 | GENTILLY               | 1353 |\n",
       "| 5434 | 94260 | FRESNES                | 1196 |\n",
       "| 5435 | 94270 | LE KREMLIN-BICÊTRE     | 2617 |\n",
       "| 5436 | 94290 | VILLENEUVE-LE-ROI      |  212 |\n",
       "| 5437 | 94300 | VINCENNES              |   82 |\n",
       "| 5438 | 94310 | ORLY                   |  605 |\n",
       "| 5439 | 94320 | THIAIS                 | 1293 |\n",
       "| 5440 | 94340 | JOINVILLE-LE-PONT      |   46 |\n",
       "| 5441 | 94350 | VILLIERS-SUR-MARNE     |   61 |\n",
       "| 5442 | 94360 | BRY-SUR-MARNE          |   32 |\n",
       "| 5443 | 94370 | SUCY-EN-BRIE           |   71 |\n",
       "| 5444 | 94380 | BONNEUIL-SUR-MARNE     |   59 |\n",
       "| 5445 | 94400 | VITRY-SUR-SEINE        | 5781 |\n",
       "| 5446 | 94410 | SAINT-MAURICE          |   49 |\n",
       "| 5447 | 94420 | LE PLESSIS-TRÉVISE     |   37 |\n",
       "| 5448 | 94430 | CHENNEVIÈRES-SUR-MARNE |   47 |\n",
       "| 5449 | 94440 | VILLECRESNES           |   66 |\n",
       "| 5450 | 94450 | LIMEIL-BRÉVANNES       |   92 |\n",
       "| 5451 | 94460 | VALENTON               |   77 |\n",
       "| 5452 | 94470 | BOISSY-SAINT-LÉGER     |   47 |\n",
       "| 5453 | 94480 | ABLON-SUR-SEINE        |   40 |\n",
       "| 5455 | 94500 | CHAMPIGNY-SUR-MARNE    |  230 |\n",
       "| 5456 | 94510 | LA QUEUE-EN-BRIE       |   18 |\n",
       "| 5457 | 94520 | MANDRES-LES-ROSES      |   33 |\n",
       "| 5458 | 94550 | CHEVILLY-LARUE         | 1177 |\n",
       "| 5459 | 94600 | CHOISY-LE-ROI          | 1009 |\n",
       "| 5460 | 94700 | MAISONS-ALFORT         |  158 |\n",
       "| 5461 | 94800 | VILLEJUIF              | 4596 |\n",
       "\n"
      ],
      "text/plain": [
       "     Code  Libellé                Séjours.PMSI.MCO.au.lieu.de.résidence.2018\n",
       "5343 92000 NANTERRE               117                                       \n",
       "5344 92100 BOULOGNE-BILLANCOURT   167                                       \n",
       "5345 92110 CLICHY                  41                                       \n",
       "5346 92120 MONTROUGE              242                                       \n",
       "5347 92130 ISSY-LES-MOULINEAUX    121                                       \n",
       "5348 92140 CLAMART                317                                       \n",
       "5349 92150 SURESNES                49                                       \n",
       "5350 92160 ANTONY                 456                                       \n",
       "5351 92170 VANVES                  75                                       \n",
       "5352 92190 MEUDON                 201                                       \n",
       "5353 92200 NEUILLY-SUR-SEINE       58                                       \n",
       "5354 92210 SAINT-CLOUD             29                                       \n",
       "5355 92220 BAGNEUX                748                                       \n",
       "5356 92230 GENNEVILLIERS           64                                       \n",
       "5357 92240 MALAKOFF               132                                       \n",
       "5358 92250 LA GARENNE-COLOMBES     31                                       \n",
       "5359 92260 FONTENAY-AUX-ROSES     201                                       \n",
       "5360 92270 BOIS-COLOMBES           21                                       \n",
       "5361 92290 CHÂTENAY-MALABRY       308                                       \n",
       "5362 92300 LEVALLOIS-PERRET        58                                       \n",
       "5363 92310 SÈVRES                  35                                       \n",
       "5364 92320 CHÂTILLON              271                                       \n",
       "5365 92330 SCEAUX                 125                                       \n",
       "5366 92340 BOURG-LA-REINE         200                                       \n",
       "5367 92350 LE PLESSIS-ROBINSON    173                                       \n",
       "5368 92370 CHAVILLE                42                                       \n",
       "5369 92380 GARCHES                 22                                       \n",
       "5370 92390 VILLENEUVE-LA-GARENNE   21                                       \n",
       "5371 92400 COURBEVOIE             106                                       \n",
       "5372 92410 VILLE-D'AVRAY           21                                       \n",
       "⋮    ⋮     ⋮                      ⋮                                         \n",
       "5431 94230 CACHAN                 1352                                      \n",
       "5432 94240 L'HA¾-LES-ROSES        1938                                      \n",
       "5433 94250 GENTILLY               1353                                      \n",
       "5434 94260 FRESNES                1196                                      \n",
       "5435 94270 LE KREMLIN-BICÊTRE     2617                                      \n",
       "5436 94290 VILLENEUVE-LE-ROI       212                                      \n",
       "5437 94300 VINCENNES                82                                      \n",
       "5438 94310 ORLY                    605                                      \n",
       "5439 94320 THIAIS                 1293                                      \n",
       "5440 94340 JOINVILLE-LE-PONT        46                                      \n",
       "5441 94350 VILLIERS-SUR-MARNE       61                                      \n",
       "5442 94360 BRY-SUR-MARNE            32                                      \n",
       "5443 94370 SUCY-EN-BRIE             71                                      \n",
       "5444 94380 BONNEUIL-SUR-MARNE       59                                      \n",
       "5445 94400 VITRY-SUR-SEINE        5781                                      \n",
       "5446 94410 SAINT-MAURICE            49                                      \n",
       "5447 94420 LE PLESSIS-TRÉVISE       37                                      \n",
       "5448 94430 CHENNEVIÈRES-SUR-MARNE   47                                      \n",
       "5449 94440 VILLECRESNES             66                                      \n",
       "5450 94450 LIMEIL-BRÉVANNES         92                                      \n",
       "5451 94460 VALENTON                 77                                      \n",
       "5452 94470 BOISSY-SAINT-LÉGER       47                                      \n",
       "5453 94480 ABLON-SUR-SEINE          40                                      \n",
       "5455 94500 CHAMPIGNY-SUR-MARNE     230                                      \n",
       "5456 94510 LA QUEUE-EN-BRIE         18                                      \n",
       "5457 94520 MANDRES-LES-ROSES        33                                      \n",
       "5458 94550 CHEVILLY-LARUE         1177                                      \n",
       "5459 94600 CHOISY-LE-ROI          1009                                      \n",
       "5460 94700 MAISONS-ALFORT          158                                      \n",
       "5461 94800 VILLEJUIF              4596                                      "
      ]
     },
     "metadata": {},
     "output_type": "display_data"
    }
   ],
   "source": [
    "# Ici on remarquera que j'ai regroupé entre parenthèses l'opération logique entre la condition_2\n",
    "# et la condition_3 : je veux que les codes géographiques commencent par \"94\" OU \"95\", mais dans \n",
    "# deux cas je veux que la condition_1 soit vérifiée\n",
    "\n",
    "condition_1 <- complete.cases(data)\n",
    "condition_2 <- (substr(data[, \"Code\"], 1, 2) == \"94\")\n",
    "condition_3 <- (substr(data[, \"Code\"], 1, 2) == \"92\")\n",
    "\n",
    "data[condition_1 & (condition_2 | condition_3), ]"
   ]
  },
  {
   "cell_type": "code",
   "execution_count": 71,
   "metadata": {},
   "outputs": [
    {
     "name": "stdout",
     "output_type": "stream",
     "text": [
      "[1] 31633\n"
     ]
    }
   ],
   "source": [
    "# Ici j'utilise la fonction sum() pour faire la somme des éléments situés\n",
    "# dans la 3e colonne de mon Data Frame, et dont les lignes correspondent aux\n",
    "# critères définis par ma condition_1 ET ma condition_2\n",
    "\n",
    "condition_1 <- complete.cases(data)\n",
    "condition_2 <- (substr(data[, \"Code\"], 1, 2) == \"94\")\n",
    "\n",
    "nb_sejours_94 <- sum(data[condition_1 & condition_2, 3])\n",
    "print(nb_sejours_94)"
   ]
  },
  {
   "cell_type": "markdown",
   "metadata": {},
   "source": [
    "### **3.3 Autres méthodes**\n",
    "\n",
    "Il existe d'autres méthodes très populaires de requêter des données dans un Data Frame, que je ne mentionnerai que brièvement ici pour ne pas trop embrouiller votre esprit car elles opèrent dans une logique un peu différente :\n",
    "\n",
    "* L'opérateur `$` : on peut appeler directement une colonne par son nom (sans les guillemets) avec la syntaxe `dataframe$nom_de_la_colonne`\n",
    "* La fonction `subset()`\n",
    "* Les fonctions de la librairie `dplyr`, qui sont des fonctions qui ont été développées par Hadley Wickham et la communauté R, afin notamment de créer une syntaxe plus verbeuse et plus proche du language parlé"
   ]
  },
  {
   "cell_type": "markdown",
   "metadata": {},
   "source": [
    "## **4. Créer de nouvelles colonnes**\n",
    "\n",
    "En général, il est de bonne pratique de ne pas toucher aux données d'origine pour pouvoir y revenir si besoin, et plutôt de créer de nouvelles colonnes à partir de celles d'origine si l'on veut apporter des modifications. Voyons le cas le plus simple, et créons une colonne remplie de `1` que l'on appellera `\"uno\"` :"
   ]
  },
  {
   "cell_type": "code",
   "execution_count": 91,
   "metadata": {},
   "outputs": [
    {
     "data": {
      "text/html": [
       "<table>\n",
       "<caption>A data.frame: 6 × 5</caption>\n",
       "<thead>\n",
       "\t<tr><th></th><th scope=col>Code</th><th scope=col>Libellé</th><th scope=col>Séjours.PMSI.MCO.au.lieu.de.résidence.2018</th><th scope=col>uno</th><th scope=col>tre</th></tr>\n",
       "\t<tr><th></th><th scope=col>&lt;chr&gt;</th><th scope=col>&lt;chr&gt;</th><th scope=col>&lt;int&gt;</th><th scope=col>&lt;dbl&gt;</th><th scope=col>&lt;dbl&gt;</th></tr>\n",
       "</thead>\n",
       "<tbody>\n",
       "\t<tr><th scope=row>60</th><td>02100</td><td>SAINT-QUENTIN       </td><td>12</td><td>1</td><td>3</td></tr>\n",
       "\t<tr><th scope=row>77</th><td>02300</td><td>CHAUNY              </td><td>14</td><td>1</td><td>3</td></tr>\n",
       "\t<tr><th scope=row>87</th><td>02400</td><td>CHÂTEAU-THIERRY     </td><td>17</td><td>1</td><td>3</td></tr>\n",
       "\t<tr><th scope=row>225</th><td>06000</td><td>NICE                </td><td>15</td><td>1</td><td>3</td></tr>\n",
       "\t<tr><th scope=row>327</th><td>08000</td><td>CHARLEVILLE-MÉZIÈRES</td><td>15</td><td>1</td><td>3</td></tr>\n",
       "\t<tr><th scope=row>392</th><td>10000</td><td>TROYES              </td><td>17</td><td>1</td><td>3</td></tr>\n",
       "</tbody>\n",
       "</table>\n"
      ],
      "text/latex": [
       "A data.frame: 6 × 5\n",
       "\\begin{tabular}{r|lllll}\n",
       "  & Code & Libellé & Séjours.PMSI.MCO.au.lieu.de.résidence.2018 & uno & tre\\\\\n",
       "  & <chr> & <chr> & <int> & <dbl> & <dbl>\\\\\n",
       "\\hline\n",
       "\t60 & 02100 & SAINT-QUENTIN        & 12 & 1 & 3\\\\\n",
       "\t77 & 02300 & CHAUNY               & 14 & 1 & 3\\\\\n",
       "\t87 & 02400 & CHÂTEAU-THIERRY      & 17 & 1 & 3\\\\\n",
       "\t225 & 06000 & NICE                 & 15 & 1 & 3\\\\\n",
       "\t327 & 08000 & CHARLEVILLE-MÉZIÈRES & 15 & 1 & 3\\\\\n",
       "\t392 & 10000 & TROYES               & 17 & 1 & 3\\\\\n",
       "\\end{tabular}\n"
      ],
      "text/markdown": [
       "\n",
       "A data.frame: 6 × 5\n",
       "\n",
       "| <!--/--> | Code &lt;chr&gt; | Libellé &lt;chr&gt; | Séjours.PMSI.MCO.au.lieu.de.résidence.2018 &lt;int&gt; | uno &lt;dbl&gt; | tre &lt;dbl&gt; |\n",
       "|---|---|---|---|---|---|\n",
       "| 60 | 02100 | SAINT-QUENTIN        | 12 | 1 | 3 |\n",
       "| 77 | 02300 | CHAUNY               | 14 | 1 | 3 |\n",
       "| 87 | 02400 | CHÂTEAU-THIERRY      | 17 | 1 | 3 |\n",
       "| 225 | 06000 | NICE                 | 15 | 1 | 3 |\n",
       "| 327 | 08000 | CHARLEVILLE-MÉZIÈRES | 15 | 1 | 3 |\n",
       "| 392 | 10000 | TROYES               | 17 | 1 | 3 |\n",
       "\n"
      ],
      "text/plain": [
       "    Code  Libellé              Séjours.PMSI.MCO.au.lieu.de.résidence.2018 uno\n",
       "60  02100 SAINT-QUENTIN        12                                         1  \n",
       "77  02300 CHAUNY               14                                         1  \n",
       "87  02400 CHÂTEAU-THIERRY      17                                         1  \n",
       "225 06000 NICE                 15                                         1  \n",
       "327 08000 CHARLEVILLE-MÉZIÈRES 15                                         1  \n",
       "392 10000 TROYES               17                                         1  \n",
       "    tre\n",
       "60  3  \n",
       "77  3  \n",
       "87  3  \n",
       "225 3  \n",
       "327 3  \n",
       "392 3  "
      ]
     },
     "metadata": {},
     "output_type": "display_data"
    }
   ],
   "source": [
    "data_complet <- data[complete.cases(data), ] # ici je ne garde que les lignes sans données manquantes\n",
    "\n",
    "data_complet[, \"uno\"] <- 1\n",
    "head(data_complet)"
   ]
  },
  {
   "cell_type": "markdown",
   "metadata": {},
   "source": [
    "Il m'a suffit de requêter une colonne qui n'existait pas encore, et d'y assigner la valeur `1`. R a fait deux choses automatiquement :\n",
    "\n",
    "* Aucune colonne n'existait au nom de `\"uno\"`, et R en a donc créé une nouvelle\n",
    "* Normalement on aurait dû assigner un vecteur de la taille du nombre de ligne du Data Frame à cette nouvelle colonne. R a remarquait que ce n'était pas le cas, et a donc répliqué la valeur dans toutes les lignes\n",
    "\n",
    "Et maintenant, créons une colonne `\"tre\"` qui vaut trois fois la valeur de la colonne `\"uno\"` :"
   ]
  },
  {
   "cell_type": "code",
   "execution_count": 92,
   "metadata": {},
   "outputs": [
    {
     "data": {
      "text/html": [
       "<table>\n",
       "<caption>A data.frame: 6 × 5</caption>\n",
       "<thead>\n",
       "\t<tr><th></th><th scope=col>Code</th><th scope=col>Libellé</th><th scope=col>Séjours.PMSI.MCO.au.lieu.de.résidence.2018</th><th scope=col>uno</th><th scope=col>tre</th></tr>\n",
       "\t<tr><th></th><th scope=col>&lt;chr&gt;</th><th scope=col>&lt;chr&gt;</th><th scope=col>&lt;int&gt;</th><th scope=col>&lt;dbl&gt;</th><th scope=col>&lt;dbl&gt;</th></tr>\n",
       "</thead>\n",
       "<tbody>\n",
       "\t<tr><th scope=row>60</th><td>02100</td><td>SAINT-QUENTIN       </td><td>12</td><td>1</td><td>3</td></tr>\n",
       "\t<tr><th scope=row>77</th><td>02300</td><td>CHAUNY              </td><td>14</td><td>1</td><td>3</td></tr>\n",
       "\t<tr><th scope=row>87</th><td>02400</td><td>CHÂTEAU-THIERRY     </td><td>17</td><td>1</td><td>3</td></tr>\n",
       "\t<tr><th scope=row>225</th><td>06000</td><td>NICE                </td><td>15</td><td>1</td><td>3</td></tr>\n",
       "\t<tr><th scope=row>327</th><td>08000</td><td>CHARLEVILLE-MÉZIÈRES</td><td>15</td><td>1</td><td>3</td></tr>\n",
       "\t<tr><th scope=row>392</th><td>10000</td><td>TROYES              </td><td>17</td><td>1</td><td>3</td></tr>\n",
       "</tbody>\n",
       "</table>\n"
      ],
      "text/latex": [
       "A data.frame: 6 × 5\n",
       "\\begin{tabular}{r|lllll}\n",
       "  & Code & Libellé & Séjours.PMSI.MCO.au.lieu.de.résidence.2018 & uno & tre\\\\\n",
       "  & <chr> & <chr> & <int> & <dbl> & <dbl>\\\\\n",
       "\\hline\n",
       "\t60 & 02100 & SAINT-QUENTIN        & 12 & 1 & 3\\\\\n",
       "\t77 & 02300 & CHAUNY               & 14 & 1 & 3\\\\\n",
       "\t87 & 02400 & CHÂTEAU-THIERRY      & 17 & 1 & 3\\\\\n",
       "\t225 & 06000 & NICE                 & 15 & 1 & 3\\\\\n",
       "\t327 & 08000 & CHARLEVILLE-MÉZIÈRES & 15 & 1 & 3\\\\\n",
       "\t392 & 10000 & TROYES               & 17 & 1 & 3\\\\\n",
       "\\end{tabular}\n"
      ],
      "text/markdown": [
       "\n",
       "A data.frame: 6 × 5\n",
       "\n",
       "| <!--/--> | Code &lt;chr&gt; | Libellé &lt;chr&gt; | Séjours.PMSI.MCO.au.lieu.de.résidence.2018 &lt;int&gt; | uno &lt;dbl&gt; | tre &lt;dbl&gt; |\n",
       "|---|---|---|---|---|---|\n",
       "| 60 | 02100 | SAINT-QUENTIN        | 12 | 1 | 3 |\n",
       "| 77 | 02300 | CHAUNY               | 14 | 1 | 3 |\n",
       "| 87 | 02400 | CHÂTEAU-THIERRY      | 17 | 1 | 3 |\n",
       "| 225 | 06000 | NICE                 | 15 | 1 | 3 |\n",
       "| 327 | 08000 | CHARLEVILLE-MÉZIÈRES | 15 | 1 | 3 |\n",
       "| 392 | 10000 | TROYES               | 17 | 1 | 3 |\n",
       "\n"
      ],
      "text/plain": [
       "    Code  Libellé              Séjours.PMSI.MCO.au.lieu.de.résidence.2018 uno\n",
       "60  02100 SAINT-QUENTIN        12                                         1  \n",
       "77  02300 CHAUNY               14                                         1  \n",
       "87  02400 CHÂTEAU-THIERRY      17                                         1  \n",
       "225 06000 NICE                 15                                         1  \n",
       "327 08000 CHARLEVILLE-MÉZIÈRES 15                                         1  \n",
       "392 10000 TROYES               17                                         1  \n",
       "    tre\n",
       "60  3  \n",
       "77  3  \n",
       "87  3  \n",
       "225 3  \n",
       "327 3  \n",
       "392 3  "
      ]
     },
     "metadata": {},
     "output_type": "display_data"
    }
   ],
   "source": [
    "data_complet[, \"tre\"] <- 3 * data_complet[, \"uno\"]\n",
    "head(data_complet)"
   ]
  },
  {
   "cell_type": "markdown",
   "metadata": {},
   "source": [
    "## **5. Fonctions utiles pour mieux connaître nos Data Frames**\n",
    "\n",
    "Il existe une multitude de fonctions de bases très utiles pour afficher des informations sur les Data Frames :\n",
    "\n",
    "* `nrow()` et `ncol()` : affichent respectivement le nombre de lignes et le nombre de colonnes"
   ]
  },
  {
   "cell_type": "code",
   "execution_count": 101,
   "metadata": {},
   "outputs": [
    {
     "name": "stdout",
     "output_type": "stream",
     "text": [
      "[1] 5646\n",
      "[1] 3\n"
     ]
    }
   ],
   "source": [
    "print(nrow(data))\n",
    "print(ncol(data))"
   ]
  },
  {
   "cell_type": "markdown",
   "metadata": {},
   "source": [
    "* `colnames()` : affiche un vecteur avec le nom des colonnes"
   ]
  },
  {
   "cell_type": "code",
   "execution_count": 109,
   "metadata": {},
   "outputs": [
    {
     "name": "stdout",
     "output_type": "stream",
     "text": [
      "[1] \"Code\"                                      \n",
      "[2] \"Libellé\"                                   \n",
      "[3] \"Séjours.PMSI.MCO.au.lieu.de.résidence.2018\"\n"
     ]
    }
   ],
   "source": [
    "print(colnames(data))"
   ]
  },
  {
   "cell_type": "markdown",
   "metadata": {},
   "source": [
    "* `head()` et `tail()` : affichent respectivement les 6 premières et les 6 dernières lignes"
   ]
  },
  {
   "cell_type": "code",
   "execution_count": 110,
   "metadata": {},
   "outputs": [
    {
     "data": {
      "text/html": [
       "<table>\n",
       "<caption>A data.frame: 6 × 3</caption>\n",
       "<thead>\n",
       "\t<tr><th></th><th scope=col>Code</th><th scope=col>Libellé</th><th scope=col>Séjours.PMSI.MCO.au.lieu.de.résidence.2018</th></tr>\n",
       "\t<tr><th></th><th scope=col>&lt;chr&gt;</th><th scope=col>&lt;chr&gt;</th><th scope=col>&lt;int&gt;</th></tr>\n",
       "</thead>\n",
       "<tbody>\n",
       "\t<tr><th scope=row>5641</th><td>9F030</td><td>MTSAMBORO </td><td>NA</td></tr>\n",
       "\t<tr><th scope=row>5642</th><td>9F040</td><td>SADA      </td><td>NA</td></tr>\n",
       "\t<tr><th scope=row>5643</th><td>9F050</td><td>BANDRABOUA</td><td>NA</td></tr>\n",
       "\t<tr><th scope=row>5644</th><td>9F060</td><td>DEMBENI   </td><td>NA</td></tr>\n",
       "\t<tr><th scope=row>5645</th><td>9F070</td><td>OUANGANI  </td><td>NA</td></tr>\n",
       "\t<tr><th scope=row>5646</th><td>9F080</td><td>TSINGONI  </td><td>NA</td></tr>\n",
       "</tbody>\n",
       "</table>\n"
      ],
      "text/latex": [
       "A data.frame: 6 × 3\n",
       "\\begin{tabular}{r|lll}\n",
       "  & Code & Libellé & Séjours.PMSI.MCO.au.lieu.de.résidence.2018\\\\\n",
       "  & <chr> & <chr> & <int>\\\\\n",
       "\\hline\n",
       "\t5641 & 9F030 & MTSAMBORO  & NA\\\\\n",
       "\t5642 & 9F040 & SADA       & NA\\\\\n",
       "\t5643 & 9F050 & BANDRABOUA & NA\\\\\n",
       "\t5644 & 9F060 & DEMBENI    & NA\\\\\n",
       "\t5645 & 9F070 & OUANGANI   & NA\\\\\n",
       "\t5646 & 9F080 & TSINGONI   & NA\\\\\n",
       "\\end{tabular}\n"
      ],
      "text/markdown": [
       "\n",
       "A data.frame: 6 × 3\n",
       "\n",
       "| <!--/--> | Code &lt;chr&gt; | Libellé &lt;chr&gt; | Séjours.PMSI.MCO.au.lieu.de.résidence.2018 &lt;int&gt; |\n",
       "|---|---|---|---|\n",
       "| 5641 | 9F030 | MTSAMBORO  | NA |\n",
       "| 5642 | 9F040 | SADA       | NA |\n",
       "| 5643 | 9F050 | BANDRABOUA | NA |\n",
       "| 5644 | 9F060 | DEMBENI    | NA |\n",
       "| 5645 | 9F070 | OUANGANI   | NA |\n",
       "| 5646 | 9F080 | TSINGONI   | NA |\n",
       "\n"
      ],
      "text/plain": [
       "     Code  Libellé    Séjours.PMSI.MCO.au.lieu.de.résidence.2018\n",
       "5641 9F030 MTSAMBORO  NA                                        \n",
       "5642 9F040 SADA       NA                                        \n",
       "5643 9F050 BANDRABOUA NA                                        \n",
       "5644 9F060 DEMBENI    NA                                        \n",
       "5645 9F070 OUANGANI   NA                                        \n",
       "5646 9F080 TSINGONI   NA                                        "
      ]
     },
     "metadata": {},
     "output_type": "display_data"
    }
   ],
   "source": [
    "tail(data)"
   ]
  },
  {
   "cell_type": "markdown",
   "metadata": {},
   "source": [
    "* `str()` : affiche la structure du Data Frame, dont le nom et type des différentes colonnes"
   ]
  },
  {
   "cell_type": "code",
   "execution_count": 104,
   "metadata": {},
   "outputs": [
    {
     "name": "stdout",
     "output_type": "stream",
     "text": [
      "'data.frame':\t5646 obs. of  3 variables:\n",
      " $ Code                                      : chr  \"01000\" \"01090\" \"01100\" \"01110\" ...\n",
      " $ Libellé                                   : chr  \"BOURG-EN-BRESSE\" \"MONTMERLE-SUR-SAÔNE\" \"OYONNAX\" \"PLATEAU D'HAUTEVILLE\" ...\n",
      " $ Séjours.PMSI.MCO.au.lieu.de.résidence.2018: int  NA NA NA NA NA NA NA NA NA NA ...\n"
     ]
    }
   ],
   "source": [
    "str(data)"
   ]
  },
  {
   "cell_type": "markdown",
   "metadata": {},
   "source": [
    "* `summary()` : affiche des statistiques de base sur chaque colonne, comme les valeurs min/max/moy et le nombre de données manquantes pour les colonnes numériques"
   ]
  },
  {
   "cell_type": "code",
   "execution_count": 108,
   "metadata": {},
   "outputs": [
    {
     "data": {
      "text/plain": [
       "     Code             Libellé         \n",
       " Length:5646        Length:5646       \n",
       " Class :character   Class :character  \n",
       " Mode  :character   Mode  :character  \n",
       "                                      \n",
       "                                      \n",
       "                                      \n",
       "                                      \n",
       " Séjours.PMSI.MCO.au.lieu.de.résidence.2018\n",
       " Min.   :  11.0                            \n",
       " 1st Qu.:  16.0                            \n",
       " Median :  32.0                            \n",
       " Mean   : 117.9                            \n",
       " 3rd Qu.:  65.0                            \n",
       " Max.   :5781.0                            \n",
       " NA's   :5165                              "
      ]
     },
     "metadata": {},
     "output_type": "display_data"
    }
   ],
   "source": [
    "summary(data)"
   ]
  },
  {
   "cell_type": "markdown",
   "metadata": {},
   "source": [
    "[Retour au sommaire](00_master.ipynb) <br>\n",
    "Cours précédent : [Opérations et manipulations de vecteurs](03_vectors.ipynb)"
   ]
  }
 ],
 "metadata": {
  "kernelspec": {
   "display_name": "R",
   "language": "R",
   "name": "ir"
  },
  "language_info": {
   "codemirror_mode": "r",
   "file_extension": ".r",
   "mimetype": "text/x-r-source",
   "name": "R",
   "pygments_lexer": "r",
   "version": "3.6.1"
  }
 },
 "nbformat": 4,
 "nbformat_minor": 4
}
